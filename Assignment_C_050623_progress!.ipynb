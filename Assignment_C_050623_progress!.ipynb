{
  "cells": [
    {
      "cell_type": "markdown",
      "metadata": {
        "id": "view-in-github",
        "colab_type": "text"
      },
      "source": [
        "<a href=\"https://colab.research.google.com/github/danling-northwestern/stat303-2project/blob/main/Assignment_C_050623_progress!.ipynb\" target=\"_parent\"><img src=\"https://colab.research.google.com/assets/colab-badge.svg\" alt=\"Open In Colab\"/></a>"
      ]
    },
    {
      "cell_type": "raw",
      "id": "bd972c94",
      "metadata": {
        "id": "bd972c94"
      },
      "source": [
        "---\n",
        "title: \"Assignment C\"\n",
        "format: \n",
        "  html:\n",
        "    toc: true\n",
        "    toc-title: Contents\n",
        "    toc-depth: 4\n",
        "    code-fold: show\n",
        "    self-contained: true\n",
        "    html-math-method: mathml \n",
        "jupyter: python3\n",
        "---"
      ]
    },
    {
      "cell_type": "markdown",
      "id": "310a5837",
      "metadata": {
        "id": "310a5837"
      },
      "source": [
        "## Instructions {-}\n",
        "\n",
        "1. You may talk to a friend, discuss the questions and potential directions for solving them. However, you need to write your own solutions and code separately, and not as a group activity. \n",
        "\n",
        "2. Write your code in the *Code* cells and your answer in the *Markdown* cells of the Jupyter notebook. Ensure that the solution is written neatly enough to understand and grade.\n",
        "\n",
        "3. Use [Quarto](https://quarto.org/docs/output-formats/html-basics.html) to print the *.ipynb* file as HTML. You will need to open the command prompt, navigate to the directory containing the file, and use the command: `quarto render filename.ipynb --to html`. Submit the HTML file.\n",
        "\n",
        "4. The assignment is worth 100 points, and is due on **Sunday, 7th May 2023 at 11:59 pm**. \n",
        "\n",
        "5. **Five points are properly formatting the assignment**. The breakdown is as follows:\n",
        "- Must be an HTML file rendered using Quarto (2 pts). *If you have a Quarto issue, you must mention the issue & quote the error you get when rendering using Quarto in the comments section of Canvas, and submit the ipynb file. If your issue doesn't seem genuine, you will lose points.* \n",
        "- There aren’t excessively long outputs of extraneous information (e.g. no printouts of entire data frames without good reason, there aren’t long printouts of which iteration a loop is on, there aren’t long sections of commented-out code, etc.) (1 pt)\n",
        "- Final answers of each question are written in Markdown cells (1 pt).\n",
        "- There is no piece of unnecessary / redundant code, and no unnecessary / redundant text (1 pt)"
      ]
    },
    {
      "cell_type": "markdown",
      "id": "62b697b3",
      "metadata": {
        "id": "62b697b3"
      },
      "source": [
        "## Regression Problem - Miami housing\n",
        "### Data preparation\n",
        "Read the data *miami-housing.csv*. Check the description of the variables [here](https://www.kaggle.com/datasets/deepcontractor/miami-housing-dataset). Split the data into 60% train and 40% test. Use `random_state = 45`. The response is `SALE_PRC`, and the rest of the columns are predictors, except `PARCELNO`. Print the shape of the predictors dataframe of the train data.\n",
        "\n",
        "*(2 points)*"
      ]
    },
    {
      "cell_type": "code",
      "source": [
        "import pandas as pd\n",
        "import numpy as np\n",
        "import matplotlib.pyplot as plt\n",
        "import seaborn as sns\n",
        "\n",
        "# sklearn\n",
        "from sklearn.tree import DecisionTreeClassifier, DecisionTreeRegressor\n",
        "from sklearn.model_selection import cross_val_score,train_test_split, cross_val_predict\n",
        "from sklearn.metrics import mean_squared_error, mean_absolute_error, roc_curve, precision_recall_curve, auc, make_scorer, recall_score, accuracy_score, precision_score, confusion_matrix\n",
        "from sklearn.model_selection import StratifiedKFold, KFold, GridSearchCV\n",
        "\n",
        "# visulize the trees\n",
        "from sklearn.tree import export_graphviz \n",
        "from six import StringIO\n",
        "from IPython.display import Image  \n",
        "import pydotplus"
      ],
      "metadata": {
        "id": "Rw90eMaPT4pS"
      },
      "id": "Rw90eMaPT4pS",
      "execution_count": 1,
      "outputs": []
    },
    {
      "cell_type": "code",
      "source": [
        "miami_house = pd.read_csv('miami-housing.csv')\n",
        "X = miami_house.drop(columns = ['PARCELNO','SALE_PRC'])\n",
        "y = miami_house.SALE_PRC\n",
        "X_train, X_test, y_train, y_test = train_test_split(X,y,test_size=0.4, random_state = 45)"
      ],
      "metadata": {
        "id": "FDIP6iO0Uufy"
      },
      "id": "FDIP6iO0Uufy",
      "execution_count": 2,
      "outputs": []
    },
    {
      "cell_type": "code",
      "source": [
        "print(X_train.shape)"
      ],
      "metadata": {
        "colab": {
          "base_uri": "https://localhost:8080/"
        },
        "id": "RJoJVmBPVfB9",
        "outputId": "6c2036d3-9396-4969-a3a5-437819a63631"
      },
      "id": "RJoJVmBPVfB9",
      "execution_count": 3,
      "outputs": [
        {
          "output_type": "stream",
          "name": "stdout",
          "text": [
            "(8359, 15)\n"
          ]
        }
      ]
    },
    {
      "cell_type": "markdown",
      "id": "77a34ecb",
      "metadata": {
        "id": "77a34ecb"
      },
      "source": [
        "### Decision tree\n",
        "Develop a decision tree model to predict `SALE_PRC` based on all the predictors. Use `random_state = 45`. Use the default hyperparameter values. What is the MAE (mean absolute error) on test data?\n",
        "\n",
        "*(3 points)*"
      ]
    },
    {
      "cell_type": "code",
      "source": [
        "reg_tree = DecisionTreeRegressor(random_state = 45)\n",
        "reg_tree.fit(X_train, y_train)\n",
        "y_pred = reg_tree.predict(X_test)\n",
        "print('The MAE of this decision tree is', mean_absolute_error(y_test, y_pred))"
      ],
      "metadata": {
        "colab": {
          "base_uri": "https://localhost:8080/"
        },
        "id": "xWiadt1QVjVl",
        "outputId": "da1194fc-5c0b-4922-ed82-05f5cb6943f1"
      },
      "id": "xWiadt1QVjVl",
      "execution_count": 4,
      "outputs": [
        {
          "output_type": "stream",
          "name": "stdout",
          "text": [
            "The MAE of this decision tree is 68628.19020276332\n"
          ]
        }
      ]
    },
    {
      "cell_type": "markdown",
      "id": "bc2c453b",
      "metadata": {
        "id": "bc2c453b"
      },
      "source": [
        "### Tuning decision tree"
      ]
    },
    {
      "cell_type": "markdown",
      "id": "e7f63a7d",
      "metadata": {
        "id": "e7f63a7d"
      },
      "source": [
        "Tune the hyperparameters of the decision tree model developed in the previous question, and compute the MAE on test data. You must tune in the following manner:\n",
        "\n",
        "1. Use `GridSearchCV` to minimize the $5$-fold mean absolute error (MAE). \n",
        "\n",
        "2. Use must do a coarse grid search first to get an idea of the domain space where the optimal hyperparameter values lie.\n",
        "\n",
        "3. You must follow it up with a finer grid search to get more precise optimal hyperparameter values.\n",
        "\n",
        "4. You may decide yourself which hyperparameters you wish to tune. Common sense should help. There is no single correct answer. \n",
        "\n",
        "The MAE must be less than $66,000. You must show the optimal values of the hyperparameters obtained, and the test MAE.\n",
        "\n",
        "*(3 points for coarse grid search,\n",
        "3 points for finer grid search,\n",
        "4 points for reaching the required MAE)*"
      ]
    },
    {
      "cell_type": "code",
      "source": [
        "# a coarse grid search\n",
        "params = {'max_depth': np.arange(2,20,2),\n",
        "          'max_leaf_nodes':np.arange(2,2002,50),\n",
        "          'min_samples_split': np.arange(2,22,5),\n",
        "          'min_samples_leaf': np.arange(1,22,5)}\n",
        "reg_tree_coarse = DecisionTreeRegressor(random_state = 45)\n",
        "coarse_grid = GridSearchCV(reg_tree_coarse, param_grid = params, scoring = 'neg_mean_absolute_error', cv=5, n_jobs=-1)\n",
        "coarse_grid.fit(X_train, y_train)\n",
        "coarse_grid.best_estimator_"
      ],
      "metadata": {
        "colab": {
          "base_uri": "https://localhost:8080/",
          "height": 92
        },
        "id": "USluDVuZW4Al",
        "outputId": "895e5bd5-8e31-4397-d439-807a8f00c4a3"
      },
      "id": "USluDVuZW4Al",
      "execution_count": null,
      "outputs": [
        {
          "output_type": "execute_result",
          "data": {
            "text/plain": [
              "DecisionTreeRegressor(max_depth=16, max_leaf_nodes=602, min_samples_leaf=6,\n",
              "                      random_state=45)"
            ],
            "text/html": [
              "<style>#sk-container-id-1 {color: black;background-color: white;}#sk-container-id-1 pre{padding: 0;}#sk-container-id-1 div.sk-toggleable {background-color: white;}#sk-container-id-1 label.sk-toggleable__label {cursor: pointer;display: block;width: 100%;margin-bottom: 0;padding: 0.3em;box-sizing: border-box;text-align: center;}#sk-container-id-1 label.sk-toggleable__label-arrow:before {content: \"▸\";float: left;margin-right: 0.25em;color: #696969;}#sk-container-id-1 label.sk-toggleable__label-arrow:hover:before {color: black;}#sk-container-id-1 div.sk-estimator:hover label.sk-toggleable__label-arrow:before {color: black;}#sk-container-id-1 div.sk-toggleable__content {max-height: 0;max-width: 0;overflow: hidden;text-align: left;background-color: #f0f8ff;}#sk-container-id-1 div.sk-toggleable__content pre {margin: 0.2em;color: black;border-radius: 0.25em;background-color: #f0f8ff;}#sk-container-id-1 input.sk-toggleable__control:checked~div.sk-toggleable__content {max-height: 200px;max-width: 100%;overflow: auto;}#sk-container-id-1 input.sk-toggleable__control:checked~label.sk-toggleable__label-arrow:before {content: \"▾\";}#sk-container-id-1 div.sk-estimator input.sk-toggleable__control:checked~label.sk-toggleable__label {background-color: #d4ebff;}#sk-container-id-1 div.sk-label input.sk-toggleable__control:checked~label.sk-toggleable__label {background-color: #d4ebff;}#sk-container-id-1 input.sk-hidden--visually {border: 0;clip: rect(1px 1px 1px 1px);clip: rect(1px, 1px, 1px, 1px);height: 1px;margin: -1px;overflow: hidden;padding: 0;position: absolute;width: 1px;}#sk-container-id-1 div.sk-estimator {font-family: monospace;background-color: #f0f8ff;border: 1px dotted black;border-radius: 0.25em;box-sizing: border-box;margin-bottom: 0.5em;}#sk-container-id-1 div.sk-estimator:hover {background-color: #d4ebff;}#sk-container-id-1 div.sk-parallel-item::after {content: \"\";width: 100%;border-bottom: 1px solid gray;flex-grow: 1;}#sk-container-id-1 div.sk-label:hover label.sk-toggleable__label {background-color: #d4ebff;}#sk-container-id-1 div.sk-serial::before {content: \"\";position: absolute;border-left: 1px solid gray;box-sizing: border-box;top: 0;bottom: 0;left: 50%;z-index: 0;}#sk-container-id-1 div.sk-serial {display: flex;flex-direction: column;align-items: center;background-color: white;padding-right: 0.2em;padding-left: 0.2em;position: relative;}#sk-container-id-1 div.sk-item {position: relative;z-index: 1;}#sk-container-id-1 div.sk-parallel {display: flex;align-items: stretch;justify-content: center;background-color: white;position: relative;}#sk-container-id-1 div.sk-item::before, #sk-container-id-1 div.sk-parallel-item::before {content: \"\";position: absolute;border-left: 1px solid gray;box-sizing: border-box;top: 0;bottom: 0;left: 50%;z-index: -1;}#sk-container-id-1 div.sk-parallel-item {display: flex;flex-direction: column;z-index: 1;position: relative;background-color: white;}#sk-container-id-1 div.sk-parallel-item:first-child::after {align-self: flex-end;width: 50%;}#sk-container-id-1 div.sk-parallel-item:last-child::after {align-self: flex-start;width: 50%;}#sk-container-id-1 div.sk-parallel-item:only-child::after {width: 0;}#sk-container-id-1 div.sk-dashed-wrapped {border: 1px dashed gray;margin: 0 0.4em 0.5em 0.4em;box-sizing: border-box;padding-bottom: 0.4em;background-color: white;}#sk-container-id-1 div.sk-label label {font-family: monospace;font-weight: bold;display: inline-block;line-height: 1.2em;}#sk-container-id-1 div.sk-label-container {text-align: center;}#sk-container-id-1 div.sk-container {/* jupyter's `normalize.less` sets `[hidden] { display: none; }` but bootstrap.min.css set `[hidden] { display: none !important; }` so we also need the `!important` here to be able to override the default hidden behavior on the sphinx rendered scikit-learn.org. See: https://github.com/scikit-learn/scikit-learn/issues/21755 */display: inline-block !important;position: relative;}#sk-container-id-1 div.sk-text-repr-fallback {display: none;}</style><div id=\"sk-container-id-1\" class=\"sk-top-container\"><div class=\"sk-text-repr-fallback\"><pre>DecisionTreeRegressor(max_depth=16, max_leaf_nodes=602, min_samples_leaf=6,\n",
              "                      random_state=45)</pre><b>In a Jupyter environment, please rerun this cell to show the HTML representation or trust the notebook. <br />On GitHub, the HTML representation is unable to render, please try loading this page with nbviewer.org.</b></div><div class=\"sk-container\" hidden><div class=\"sk-item\"><div class=\"sk-estimator sk-toggleable\"><input class=\"sk-toggleable__control sk-hidden--visually\" id=\"sk-estimator-id-1\" type=\"checkbox\" checked><label for=\"sk-estimator-id-1\" class=\"sk-toggleable__label sk-toggleable__label-arrow\">DecisionTreeRegressor</label><div class=\"sk-toggleable__content\"><pre>DecisionTreeRegressor(max_depth=16, max_leaf_nodes=602, min_samples_leaf=6,\n",
              "                      random_state=45)</pre></div></div></div></div></div>"
            ]
          },
          "metadata": {},
          "execution_count": 5
        }
      ]
    },
    {
      "cell_type": "code",
      "source": [
        "# this is the best parameters from the coarse grid search\n",
        "coarse_grid.best_params_"
      ],
      "metadata": {
        "colab": {
          "base_uri": "https://localhost:8080/"
        },
        "id": "AY7CdDa3bSdN",
        "outputId": "f52b1728-d371-4b8d-dfe9-976608ac23ea"
      },
      "id": "AY7CdDa3bSdN",
      "execution_count": null,
      "outputs": [
        {
          "output_type": "execute_result",
          "data": {
            "text/plain": [
              "{'max_depth': 16,\n",
              " 'max_leaf_nodes': 602,\n",
              " 'min_samples_leaf': 6,\n",
              " 'min_samples_split': 2}"
            ]
          },
          "metadata": {},
          "execution_count": 6
        }
      ]
    },
    {
      "cell_type": "code",
      "source": [
        "# a refined grid search\n",
        "refined_params = {'max_depth': np.arange(14,19,1),\n",
        "          'max_leaf_nodes':np.arange(553,652,1),\n",
        "          'min_samples_split': np.arange(1,4,1),\n",
        "          'min_samples_leaf': np.arange(3,8,1)}\n",
        "reg_tree_refined = DecisionTreeRegressor(random_state = 45)\n",
        "refined_grid = GridSearchCV(reg_tree_refined, param_grid = refined_params, scoring = 'neg_mean_absolute_error', cv=5, n_jobs=-1)\n",
        "refined_grid.fit(X_train, y_train)\n",
        "# this is the parameter for the refined grid search\n",
        "refined_grid.best_params_"
      ],
      "metadata": {
        "colab": {
          "base_uri": "https://localhost:8080/"
        },
        "id": "bHn0I466bHqR",
        "outputId": "b894d506-7229-4a13-84d9-d463b6138ded"
      },
      "id": "bHn0I466bHqR",
      "execution_count": null,
      "outputs": [
        {
          "output_type": "stream",
          "name": "stderr",
          "text": [
            "/usr/local/lib/python3.9/dist-packages/sklearn/model_selection/_validation.py:378: FitFailedWarning: \n",
            "12375 fits failed out of a total of 37125.\n",
            "The score on these train-test partitions for these parameters will be set to nan.\n",
            "If these failures are not expected, you can try to debug them by setting error_score='raise'.\n",
            "\n",
            "Below are more details about the failures:\n",
            "--------------------------------------------------------------------------------\n",
            "12375 fits failed with the following error:\n",
            "Traceback (most recent call last):\n",
            "  File \"/usr/local/lib/python3.9/dist-packages/sklearn/model_selection/_validation.py\", line 686, in _fit_and_score\n",
            "    estimator.fit(X_train, y_train, **fit_params)\n",
            "  File \"/usr/local/lib/python3.9/dist-packages/sklearn/tree/_classes.py\", line 1247, in fit\n",
            "    super().fit(\n",
            "  File \"/usr/local/lib/python3.9/dist-packages/sklearn/tree/_classes.py\", line 177, in fit\n",
            "    self._validate_params()\n",
            "  File \"/usr/local/lib/python3.9/dist-packages/sklearn/base.py\", line 600, in _validate_params\n",
            "    validate_parameter_constraints(\n",
            "  File \"/usr/local/lib/python3.9/dist-packages/sklearn/utils/_param_validation.py\", line 97, in validate_parameter_constraints\n",
            "    raise InvalidParameterError(\n",
            "sklearn.utils._param_validation.InvalidParameterError: The 'min_samples_split' parameter of DecisionTreeRegressor must be an int in the range [2, inf) or a float in the range (0.0, 1.0]. Got 1 instead.\n",
            "\n",
            "  warnings.warn(some_fits_failed_message, FitFailedWarning)\n",
            "/usr/local/lib/python3.9/dist-packages/sklearn/model_selection/_search.py:952: UserWarning: One or more of the test scores are non-finite: [            nan -66626.99032097 -66626.99032097 ...             nan\n",
            " -66018.6746709  -66018.6746709 ]\n",
            "  warnings.warn(\n"
          ]
        },
        {
          "output_type": "execute_result",
          "data": {
            "text/plain": [
              "{'max_depth': 15,\n",
              " 'max_leaf_nodes': 647,\n",
              " 'min_samples_leaf': 6,\n",
              " 'min_samples_split': 2}"
            ]
          },
          "metadata": {},
          "execution_count": 7
        }
      ]
    },
    {
      "cell_type": "code",
      "source": [
        "# the MAE on the train dataset\n",
        "print('The average cross-validated MAE is',\"${:.2f}\".format(-refined_grid.best_score_))"
      ],
      "metadata": {
        "colab": {
          "base_uri": "https://localhost:8080/"
        },
        "id": "75ggV1Rxd2_p",
        "outputId": "510dd381-dc4a-4691-afd1-b2b80908d600"
      },
      "id": "75ggV1Rxd2_p",
      "execution_count": null,
      "outputs": [
        {
          "output_type": "stream",
          "name": "stdout",
          "text": [
            "The average cross-validated MAE is $64739.21\n"
          ]
        }
      ]
    },
    {
      "cell_type": "code",
      "source": [
        "refined_reg_tree = refined_grid.best_estimator_\n",
        "y_pred1 = refined_reg_tree.predict(X_test)\n",
        "print('The MAE of the refined decision tree is', \"${:.2f}\".format(mean_absolute_error(y_test, y_pred1)))"
      ],
      "metadata": {
        "colab": {
          "base_uri": "https://localhost:8080/"
        },
        "id": "22U5BLFdyet3",
        "outputId": "b25a7801-cf37-40bf-ee36-4f30cf4ebcc1"
      },
      "id": "22U5BLFdyet3",
      "execution_count": null,
      "outputs": [
        {
          "output_type": "stream",
          "name": "stdout",
          "text": [
            "The MAE of the refined decision tree is $64646.10\n"
          ]
        }
      ]
    },
    {
      "cell_type": "markdown",
      "id": "70f19055",
      "metadata": {
        "id": "70f19055"
      },
      "source": [
        "### Bagging decision trees"
      ]
    },
    {
      "cell_type": "markdown",
      "id": "f4a41cd8",
      "metadata": {
        "id": "f4a41cd8"
      },
      "source": [
        "Bag decision trees, and compute the MAE on test data. Use enough number of trees, such that the MAE stabilizes. Other than `n_estimators`, use default values of hyperparameters.\n",
        "\n",
        "The test MAE must be less than $50,000.\n",
        "\n",
        "*(4 points)*"
      ]
    },
    {
      "cell_type": "code",
      "source": [
        "from sklearn.ensemble import BaggingRegressor"
      ],
      "metadata": {
        "id": "WwMNB7EoGcZV"
      },
      "id": "WwMNB7EoGcZV",
      "execution_count": null,
      "outputs": []
    },
    {
      "cell_type": "code",
      "source": [
        "#Finding model accuracy vs number of trees\n",
        "oob_rsquared={};test_rsquared={};oob_mae={};test_mae = {}\n",
        "for i in np.linspace(10,400,40,dtype=int):\n",
        "    model = BaggingRegressor(estimator=DecisionTreeRegressor(), n_estimators=i, \n",
        "                        n_jobs=-1,oob_score=True).fit(X_train, y_train)\n",
        "    oob_rsquared[i]=model.oob_score_  #Returns the out-of_bag R-squared of the model\n",
        "    test_rsquared[i]=model.score(X_test,y_test) #Returns the test R-squared of the model\n",
        "    oob_mae[i]=mean_absolute_error(model.oob_prediction_,y_train)\n",
        "    test_mae[i]=mean_absolute_error(model.predict(X_test),y_test)"
      ],
      "metadata": {
        "colab": {
          "base_uri": "https://localhost:8080/"
        },
        "id": "hL9urs9vG_6k",
        "outputId": "4cfab54c-5b04-46f9-db63-cd59534deac6"
      },
      "id": "hL9urs9vG_6k",
      "execution_count": null,
      "outputs": [
        {
          "output_type": "stream",
          "name": "stderr",
          "text": [
            "/usr/local/lib/python3.9/dist-packages/sklearn/ensemble/_bagging.py:1253: UserWarning: Some inputs do not have OOB scores. This probably means too few estimators were used to compute any reliable oob estimates.\n",
            "  warn(\n"
          ]
        }
      ]
    },
    {
      "cell_type": "code",
      "source": [
        "#Visualizing out-of-bag mae and test data mae\n",
        "plt.rcParams.update({'font.size': 15})\n",
        "plt.figure(figsize=(8, 6), dpi=80)\n",
        "plt.plot(oob_mae.keys(),oob_mae.values(),label = 'Out of bag MAE')\n",
        "plt.plot(oob_mae.keys(),oob_mae.values(),'o',color = 'blue')\n",
        "plt.plot(test_mae.keys(),test_mae.values(), label = 'Test data MAE')\n",
        "plt.xlabel('Number of trees')\n",
        "plt.ylabel('MAE')\n",
        "plt.legend()"
      ],
      "metadata": {
        "colab": {
          "base_uri": "https://localhost:8080/",
          "height": 468
        },
        "id": "UcZ-xr8oJhL9",
        "outputId": "ad231aa9-eafd-4de6-ffde-5f53d04e14ff"
      },
      "id": "UcZ-xr8oJhL9",
      "execution_count": null,
      "outputs": [
        {
          "output_type": "execute_result",
          "data": {
            "text/plain": [
              "<matplotlib.legend.Legend at 0x7f1a418f76a0>"
            ]
          },
          "metadata": {},
          "execution_count": 12
        },
        {
          "output_type": "display_data",
          "data": {
            "text/plain": [
              "<Figure size 640x480 with 1 Axes>"
            ],
            "image/png": "[encoded data removed]"
          },
          "metadata": {}
        }
      ]
    },
    {
      "cell_type": "markdown",
      "source": [
        "According to the graph above, `n_estimator` will be set as 150.\n"
      ],
      "metadata": {
        "id": "0oivsc6aKzuC"
      },
      "id": "0oivsc6aKzuC"
    },
    {
      "cell_type": "code",
      "source": [
        "bagged_tree = BaggingRegressor(estimator=DecisionTreeRegressor(), n_estimators=150, n_jobs=-1,oob_score=True).fit(X_train, y_train)"
      ],
      "metadata": {
        "id": "98-bN0JFKyt7"
      },
      "id": "98-bN0JFKyt7",
      "execution_count": null,
      "outputs": []
    },
    {
      "cell_type": "code",
      "source": [
        "#mae on test data\n",
        "y_pred2 = bagged_tree.predict(X_test)\n",
        "print('The MAE of the bagged decision tree is', \"${:.2f}\".format(mean_absolute_error(y_test, y_pred2)))\n"
      ],
      "metadata": {
        "colab": {
          "base_uri": "https://localhost:8080/"
        },
        "id": "QN7KOOqYL-A8",
        "outputId": "7d71cbfc-b1b4-4842-d77b-3f8a7ce0cfbc"
      },
      "id": "QN7KOOqYL-A8",
      "execution_count": null,
      "outputs": [
        {
          "output_type": "stream",
          "name": "stdout",
          "text": [
            "The MAE of the bagged decision tree is $47956.88\n"
          ]
        }
      ]
    },
    {
      "cell_type": "markdown",
      "id": "9392f662",
      "metadata": {
        "id": "9392f662"
      },
      "source": [
        "### Bagging without bootstrapping"
      ]
    },
    {
      "cell_type": "markdown",
      "id": "7df4be1b",
      "metadata": {
        "id": "7df4be1b"
      },
      "source": [
        "Bag decision trees without bootstrapping, i.e., put `bootstrap = False` while bagging the trees, and compute the MAE on test data. Why is the MAE obtained much higher than that in the previous question, but lower than that obtained in [C.1.2](https://nustat.github.io/STAT303-3-class-notes/Assignment%20C.html#decision-tree)?\n",
        "\n",
        "*(1 point for code, (3 + 3) points for reasoning)*"
      ]
    },
    {
      "cell_type": "code",
      "source": [
        "bagged_tree_2 = BaggingRegressor(estimator=DecisionTreeRegressor(), n_estimators=150, n_jobs=-1,bootstrap = False).fit(X_train, y_train)"
      ],
      "metadata": {
        "id": "a5zCepvmrWVS"
      },
      "id": "a5zCepvmrWVS",
      "execution_count": null,
      "outputs": []
    },
    {
      "cell_type": "code",
      "source": [
        "#mae on test data\n",
        "y_pred3 = bagged_tree_2.predict(X_test)\n",
        "print('The MAE of the bagged decision tree without boostrapping is', \"${:.2f}\".format(mean_absolute_error(y_test, y_pred3)))"
      ],
      "metadata": {
        "colab": {
          "base_uri": "https://localhost:8080/"
        },
        "id": "CHkzjpL8rlMm",
        "outputId": "1fab2c40-55a0-4d24-9bf4-7eacd1d1b4b6"
      },
      "id": "CHkzjpL8rlMm",
      "execution_count": null,
      "outputs": [
        {
          "output_type": "stream",
          "name": "stdout",
          "text": [
            "The MAE of the bagged decision tree without boostrapping is $66448.00\n"
          ]
        }
      ]
    },
    {
      "cell_type": "markdown",
      "source": [
        "MAE is much higher than that in the previous question because the models are trianed on the same sample of dataset multiple times. This may lead to overfitting. However, it still performs better (i.e. less MAE) than the tree model without bagging. That is because bagging trains the model with different `random_state` multiple times (150 times in this case) and outputs an average prediction while the decision tree in C.1.2 is trained only once. The variance of bagging without bootstrapping is lower than not using bagging."
      ],
      "metadata": {
        "id": "bsTSHBUJs3wE"
      },
      "id": "bsTSHBUJs3wE"
    },
    {
      "cell_type": "markdown",
      "id": "d06644b7",
      "metadata": {
        "id": "d06644b7"
      },
      "source": [
        "### Tuning bagged tree model\n",
        "#### Approaches\n",
        "\n",
        "There are two approaches for tuning a bagged tree model:\n",
        "\n",
        "1. Out of bag predicition\n",
        "\n",
        "2. $K$-fold cross validation using `GridSearchCV`.\n",
        "\n",
        "What is the advantage of each approach over the other, i.e., what is the advantage of the out-of-bag approach over $K$-fold cross validation, and what is the advantage of $K$-fold cross validation over the out-of-bag approach?\n",
        "\n",
        "*(3 + 3 points)*"
      ]
    },
    {
      "cell_type": "markdown",
      "source": [
        "Advantage of OOB: <br>\n",
        "1) easier to implement and faster to compute; <br>\n",
        "2) a model is tested on out-of-bag sample through oob score every time when it is trained. This additional metrics may help fit the model. <br>\n",
        "Advantage of $K$-fold cross validatiom:<br>\n",
        "1) the fold can be stratified so that the model less likely to be affected by unbalanced data; <br>\n",
        "2) Using sklearn `GridSearchCV`, multiple hyperparameters can be tuned to improve the fit. <br>"
      ],
      "metadata": {
        "id": "RB1BMQEwyKgH"
      },
      "id": "RB1BMQEwyKgH"
    },
    {
      "cell_type": "markdown",
      "id": "75312e3c",
      "metadata": {
        "id": "75312e3c"
      },
      "source": [
        "#### Tuning the hyperparameters\n",
        "\n",
        "Tune the hyperparameters of the bagged tree model developed in [C.1.4](https://nustat.github.io/STAT303-3-class-notes/Assignment%20C.html#bagging-decision-trees). You may use either of the approaches mentioned in the previous question. Show the optimal values of the hyperparameters obtained. Compute the MAE on test data with the tuned model. Your MAE on test data must be less than $46,000. However, you **cannot use the test data to tune the hyperparameters**.\n",
        "\n",
        "It is up to you to pick the hyperparameters and their values in the grid.\n",
        "\n",
        "*(10 points)*"
      ]
    },
    {
      "cell_type": "code",
      "source": [
        "bagging_params = {'max_samples': np.arange(0.7,1.01,0.1),\n",
        "                  'max_features':np.arange(0.7,1.01,0.1),\n",
        "                  'oob_score': [True,False],\n",
        "                  'n_estimators':[200,500,800]}\n",
        "bt = BaggingRegressor(estimator =DecisionTreeRegressor(random_state = 45),  random_state = 0)\n",
        "bagging_grid = GridSearchCV(bt, param_grid = bagging_params, scoring = 'neg_mean_absolute_error', cv=5, n_jobs=-1)\n",
        "bagging_grid.fit(X_train, y_train)\n",
        "# this is the parameter for the bagging grid search\n",
        "bagging_grid.best_params_"
      ],
      "metadata": {
        "colab": {
          "base_uri": "https://localhost:8080/"
        },
        "id": "ZaM_yrJ60kOC",
        "outputId": "703fbbcc-18ee-45e3-8c5f-7a5c63596cc5"
      },
      "id": "ZaM_yrJ60kOC",
      "execution_count": null,
      "outputs": [
        {
          "output_type": "stream",
          "name": "stderr",
          "text": [
            "/usr/local/lib/python3.9/dist-packages/joblib/externals/loky/process_executor.py:702: UserWarning: A worker stopped while some jobs were given to the executor. This can be caused by a too short worker timeout or by a memory leak.\n",
            "  warnings.warn(\n"
          ]
        },
        {
          "output_type": "execute_result",
          "data": {
            "text/plain": [
              "{'max_features': 0.7999999999999999,\n",
              " 'max_samples': 0.9999999999999999,\n",
              " 'n_estimators': 800,\n",
              " 'oob_score': True}"
            ]
          },
          "metadata": {},
          "execution_count": 19
        }
      ]
    },
    {
      "cell_type": "code",
      "source": [
        "best_bag_tree = bagging_grid.best_estimator_\n",
        "y_pred4 = best_bag_tree.predict(X_test)\n",
        "print('The MAE of the tuned bagging decision tree on the test dataset is', \"${:.2f}\".format(mean_absolute_error(y_test, y_pred4)))"
      ],
      "metadata": {
        "colab": {
          "base_uri": "https://localhost:8080/"
        },
        "id": "RQZCaZW922QB",
        "outputId": "fc7745ec-2542-498e-d0c4-0e55a0f356e3"
      },
      "id": "RQZCaZW922QB",
      "execution_count": null,
      "outputs": [
        {
          "output_type": "stream",
          "name": "stdout",
          "text": [
            "The MAE of the tuned bagging decision tree on the test dataset is $45970.80\n"
          ]
        }
      ]
    },
    {
      "cell_type": "markdown",
      "id": "50f727d1",
      "metadata": {
        "id": "50f727d1"
      },
      "source": [
        "### Bagging feature importance\n",
        "Arrange and print the predictors in decreasing order of importance.\n",
        "\n",
        "*(4 points)*"
      ]
    },
    {
      "cell_type": "code",
      "source": [
        "for i in range(0,800):\n",
        "  cln_sel = best_bag_tree.estimators_features_[i]\n",
        "  feature_sel = X_train.columns[cln_sel]\n",
        "  tree = best_bag_tree.estimators_[i]\n",
        "  importance = tree.feature_importances_ \n",
        "  locals()['importance_table{0}'.format(i)] = pd.DataFrame(data = [feature_sel,importance], index = ['feature','importance'+str(i)]).T"
      ],
      "metadata": {
        "id": "3xuiTROVCma3"
      },
      "id": "3xuiTROVCma3",
      "execution_count": null,
      "outputs": []
    },
    {
      "cell_type": "code",
      "source": [
        "importance_table0"
      ],
      "metadata": {
        "colab": {
          "base_uri": "https://localhost:8080/",
          "height": 394
        },
        "id": "roCR5ENBHXfN",
        "outputId": "c6ca4908-8481-43c2-aacc-399ebf4d34f7"
      },
      "id": "roCR5ENBHXfN",
      "execution_count": null,
      "outputs": [
        {
          "output_type": "execute_result",
          "data": {
            "text/plain": [
              "              feature importance0\n",
              "0            HWY_DIST    0.025981\n",
              "1           CNTR_DIST    0.050909\n",
              "2       SPEC_FEAT_VAL    0.157083\n",
              "3          SUBCNTR_DI    0.071977\n",
              "4           RAIL_DIST    0.038484\n",
              "5          WATER_DIST    0.046286\n",
              "6          month_sold    0.011169\n",
              "7           LONGITUDE    0.050852\n",
              "8          OCEAN_DIST    0.260235\n",
              "9   structure_quality    0.231848\n",
              "10                age    0.055177"
            ],
            "text/html": [
              "\n",
              "  <div id=\"df-ea8d432c-b165-4035-875f-00942c78cb85\">\n",
              "    <div class=\"colab-df-container\">\n",
              "      <div>\n",
              "<style scoped>\n",
              "    .dataframe tbody tr th:only-of-type {\n",
              "        vertical-align: middle;\n",
              "    }\n",
              "\n",
              "    .dataframe tbody tr th {\n",
              "        vertical-align: top;\n",
              "    }\n",
              "\n",
              "    .dataframe thead th {\n",
              "        text-align: right;\n",
              "    }\n",
              "</style>\n",
              "<table border=\"1\" class=\"dataframe\">\n",
              "  <thead>\n",
              "    <tr style=\"text-align: right;\">\n",
              "      <th></th>\n",
              "      <th>feature</th>\n",
              "      <th>importance0</th>\n",
              "    </tr>\n",
              "  </thead>\n",
              "  <tbody>\n",
              "    <tr>\n",
              "      <th>0</th>\n",
              "      <td>HWY_DIST</td>\n",
              "      <td>0.025981</td>\n",
              "    </tr>\n",
              "    <tr>\n",
              "      <th>1</th>\n",
              "      <td>CNTR_DIST</td>\n",
              "      <td>0.050909</td>\n",
              "    </tr>\n",
              "    <tr>\n",
              "      <th>2</th>\n",
              "      <td>SPEC_FEAT_VAL</td>\n",
              "      <td>0.157083</td>\n",
              "    </tr>\n",
              "    <tr>\n",
              "      <th>3</th>\n",
              "      <td>SUBCNTR_DI</td>\n",
              "      <td>0.071977</td>\n",
              "    </tr>\n",
              "    <tr>\n",
              "      <th>4</th>\n",
              "      <td>RAIL_DIST</td>\n",
              "      <td>0.038484</td>\n",
              "    </tr>\n",
              "    <tr>\n",
              "      <th>5</th>\n",
              "      <td>WATER_DIST</td>\n",
              "      <td>0.046286</td>\n",
              "    </tr>\n",
              "    <tr>\n",
              "      <th>6</th>\n",
              "      <td>month_sold</td>\n",
              "      <td>0.011169</td>\n",
              "    </tr>\n",
              "    <tr>\n",
              "      <th>7</th>\n",
              "      <td>LONGITUDE</td>\n",
              "      <td>0.050852</td>\n",
              "    </tr>\n",
              "    <tr>\n",
              "      <th>8</th>\n",
              "      <td>OCEAN_DIST</td>\n",
              "      <td>0.260235</td>\n",
              "    </tr>\n",
              "    <tr>\n",
              "      <th>9</th>\n",
              "      <td>structure_quality</td>\n",
              "      <td>0.231848</td>\n",
              "    </tr>\n",
              "    <tr>\n",
              "      <th>10</th>\n",
              "      <td>age</td>\n",
              "      <td>0.055177</td>\n",
              "    </tr>\n",
              "  </tbody>\n",
              "</table>\n",
              "</div>\n",
              "      <button class=\"colab-df-convert\" onclick=\"convertToInteractive('df-ea8d432c-b165-4035-875f-00942c78cb85')\"\n",
              "              title=\"Convert this dataframe to an interactive table.\"\n",
              "              style=\"display:none;\">\n",
              "        \n",
              "  <svg xmlns=\"http://www.w3.org/2000/svg\" height=\"24px\"viewBox=\"0 0 24 24\"\n",
              "       width=\"24px\">\n",
              "    <path d=\"M0 0h24v24H0V0z\" fill=\"none\"/>\n",
              "    <path d=\"M18.56 5.44l.94 2.06.94-2.06 2.06-.94-2.06-.94-.94-2.06-.94 2.06-2.06.94zm-11 1L8.5 8.5l.94-2.06 2.06-.94-2.06-.94L8.5 2.5l-.94 2.06-2.06.94zm10 10l.94 2.06.94-2.06 2.06-.94-2.06-.94-.94-2.06-.94 2.06-2.06.94z\"/><path d=\"M17.41 7.96l-1.37-1.37c-.4-.4-.92-.59-1.43-.59-.52 0-1.04.2-1.43.59L10.3 9.45l-7.72 7.72c-.78.78-.78 2.05 0 2.83L4 21.41c.39.39.9.59 1.41.59.51 0 1.02-.2 1.41-.59l7.78-7.78 2.81-2.81c.8-.78.8-2.07 0-2.86zM5.41 20L4 18.59l7.72-7.72 1.47 1.35L5.41 20z\"/>\n",
              "  </svg>\n",
              "      </button>\n",
              "      \n",
              "  <style>\n",
              "    .colab-df-container {\n",
              "      display:flex;\n",
              "      flex-wrap:wrap;\n",
              "      gap: 12px;\n",
              "    }\n",
              "\n",
              "    .colab-df-convert {\n",
              "      background-color: #E8F0FE;\n",
              "      border: none;\n",
              "      border-radius: 50%;\n",
              "      cursor: pointer;\n",
              "      display: none;\n",
              "      fill: #1967D2;\n",
              "      height: 32px;\n",
              "      padding: 0 0 0 0;\n",
              "      width: 32px;\n",
              "    }\n",
              "\n",
              "    .colab-df-convert:hover {\n",
              "      background-color: #E2EBFA;\n",
              "      box-shadow: 0px 1px 2px rgba(60, 64, 67, 0.3), 0px 1px 3px 1px rgba(60, 64, 67, 0.15);\n",
              "      fill: #174EA6;\n",
              "    }\n",
              "\n",
              "    [theme=dark] .colab-df-convert {\n",
              "      background-color: #3B4455;\n",
              "      fill: #D2E3FC;\n",
              "    }\n",
              "\n",
              "    [theme=dark] .colab-df-convert:hover {\n",
              "      background-color: #434B5C;\n",
              "      box-shadow: 0px 1px 3px 1px rgba(0, 0, 0, 0.15);\n",
              "      filter: drop-shadow(0px 1px 2px rgba(0, 0, 0, 0.3));\n",
              "      fill: #FFFFFF;\n",
              "    }\n",
              "  </style>\n",
              "\n",
              "      <script>\n",
              "        const buttonEl =\n",
              "          document.querySelector('#df-ea8d432c-b165-4035-875f-00942c78cb85 button.colab-df-convert');\n",
              "        buttonEl.style.display =\n",
              "          google.colab.kernel.accessAllowed ? 'block' : 'none';\n",
              "\n",
              "        async function convertToInteractive(key) {\n",
              "          const element = document.querySelector('#df-ea8d432c-b165-4035-875f-00942c78cb85');\n",
              "          const dataTable =\n",
              "            await google.colab.kernel.invokeFunction('convertToInteractive',\n",
              "                                                     [key], {});\n",
              "          if (!dataTable) return;\n",
              "\n",
              "          const docLinkHtml = 'Like what you see? Visit the ' +\n",
              "            '<a target=\"_blank\" href=https://colab.research.google.com/notebooks/data_table.ipynb>data table notebook</a>'\n",
              "            + ' to learn more about interactive tables.';\n",
              "          element.innerHTML = '';\n",
              "          dataTable['output_type'] = 'display_data';\n",
              "          await google.colab.output.renderOutput(dataTable, element);\n",
              "          const docLink = document.createElement('div');\n",
              "          docLink.innerHTML = docLinkHtml;\n",
              "          element.appendChild(docLink);\n",
              "        }\n",
              "      </script>\n",
              "    </div>\n",
              "  </div>\n",
              "  "
            ]
          },
          "metadata": {},
          "execution_count": 30
        }
      ]
    },
    {
      "cell_type": "code",
      "source": [
        "importance_table = importance_table0\n",
        "for i in range(1,800):\n",
        "  importance_table = importance_table.merge(locals()['importance_table{0}'.format(i)], how = 'outer', on ='feature')"
      ],
      "metadata": {
        "id": "ik4OV4i3AYpl"
      },
      "id": "ik4OV4i3AYpl",
      "execution_count": null,
      "outputs": []
    },
    {
      "cell_type": "code",
      "source": [
        "importance_table.set_index('feature', inplace=True)"
      ],
      "metadata": {
        "id": "ZWrUKpT4q0js"
      },
      "id": "ZWrUKpT4q0js",
      "execution_count": null,
      "outputs": []
    },
    {
      "cell_type": "code",
      "source": [
        "importance_table.mean(axis = 1).sort_values(ascending = False)"
      ],
      "metadata": {
        "colab": {
          "base_uri": "https://localhost:8080/"
        },
        "id": "3RZNR1dEIF44",
        "outputId": "720f4b26-5b8f-4234-8cda-2d45d0251c8b"
      },
      "id": "3RZNR1dEIF44",
      "execution_count": null,
      "outputs": [
        {
          "output_type": "execute_result",
          "data": {
            "text/plain": [
              "feature\n",
              "TOT_LVG_AREA         0.433172\n",
              "OCEAN_DIST           0.184840\n",
              "CNTR_DIST            0.136535\n",
              "structure_quality    0.112411\n",
              "LONGITUDE            0.098901\n",
              "SUBCNTR_DI           0.072591\n",
              "SPEC_FEAT_VAL        0.072511\n",
              "LND_SQFOOT           0.049863\n",
              "WATER_DIST           0.049761\n",
              "LATITUDE             0.039557\n",
              "age                  0.036865\n",
              "HWY_DIST             0.027719\n",
              "RAIL_DIST            0.026272\n",
              "month_sold           0.007509\n",
              "avno60plus           0.000338\n",
              "dtype: float64"
            ]
          },
          "metadata": {},
          "execution_count": 40
        }
      ]
    },
    {
      "cell_type": "markdown",
      "id": "ad011c83",
      "metadata": {
        "id": "ad011c83"
      },
      "source": [
        "### Random forest"
      ]
    },
    {
      "cell_type": "markdown",
      "id": "3982732e",
      "metadata": {
        "id": "3982732e"
      },
      "source": [
        "#### Tuning random forest\n",
        "Tune a random forest model to predict `SALE_PRC`, and compute the MAE on test data. The MAE must be less than $46,000.\n",
        "\n",
        "It is up to you to pick the hyperparameters and their values in the grid.\n",
        "\n",
        "*(10 points)*"
      ]
    },
    {
      "cell_type": "markdown",
      "source": [
        "For the sake of runtime, I will tune hyperparameters other than `n_estimators` first. "
      ],
      "metadata": {
        "id": "8bF16fxlqk4o"
      },
      "id": "8bF16fxlqk4o"
    },
    {
      "cell_type": "code",
      "source": [
        "from sklearn.ensemble import RandomForestRegressor\n",
        "skf_reg = StratifiedKFold(n_splits=5)"
      ],
      "metadata": {
        "id": "TS6y6FUOZr3h"
      },
      "id": "TS6y6FUOZr3h",
      "execution_count": 5,
      "outputs": []
    },
    {
      "cell_type": "code",
      "source": [
        "rf_params = {'max_depth': [28,29,30,31,32],\n",
        "             'max_features': ['sqrt', 0.5,1.0],\n",
        "             'oob_score':[True, False],\n",
        "             'min_impurity_decrease':[0,0.13, 0.14, 0.15, 0.16, 0.17, 0.2],\n",
        "             'criterion': ['squared_error', 'absolute_error'],# 'friedman_mse','poisson'],\n",
        "             'min_weight_fraction_leaf': [0, 0.01, 0.02, 0.005],\n",
        "             #'ccp_alpha': [0, 0.01, 0.05, 0.1]\n",
        "             #'min_samples_split':[2,4,6,8],\n",
        "             #'min_samples_leaf': [1,3,5,10,15],\n",
        "             #'max_leaf_nodes': [50,100,500, None]\n",
        "             }\n",
        "rf = RandomForestRegressor(random_state = 16, n_jobs = -1, n_estimators = 50)\n",
        "rf_grid = GridSearchCV(rf, param_grid = rf_params,  scoring = 'neg_mean_absolute_error', cv=5, n_jobs=-1)\n",
        "rf_grid.fit(X_train, y_train)"
      ],
      "metadata": {
        "colab": {
          "base_uri": "https://localhost:8080/",
          "height": 353
        },
        "id": "pbRa9SfPZtFm",
        "outputId": "7017e4d0-2476-4e60-b18b-59e46ee0b7b7"
      },
      "id": "pbRa9SfPZtFm",
      "execution_count": 76,
      "outputs": [
        {
          "output_type": "error",
          "ename": "KeyboardInterrupt",
          "evalue": "ignored",
          "traceback": [
            "\u001b[0;31m---------------------------------------------------------------------------\u001b[0m",
            "\u001b[0;31mKeyboardInterrupt\u001b[0m                         Traceback (most recent call last)",
            "\u001b[0;32m<ipython-input-76-464f94d5bf6c>\u001b[0m in \u001b[0;36m<cell line: 14>\u001b[0;34m()\u001b[0m\n\u001b[1;32m     12\u001b[0m \u001b[0mrf\u001b[0m \u001b[0;34m=\u001b[0m \u001b[0mRandomForestRegressor\u001b[0m\u001b[0;34m(\u001b[0m\u001b[0mrandom_state\u001b[0m \u001b[0;34m=\u001b[0m \u001b[0;36m16\u001b[0m\u001b[0;34m,\u001b[0m \u001b[0mn_jobs\u001b[0m \u001b[0;34m=\u001b[0m \u001b[0;34m-\u001b[0m\u001b[0;36m1\u001b[0m\u001b[0;34m,\u001b[0m \u001b[0mn_estimators\u001b[0m \u001b[0;34m=\u001b[0m \u001b[0;36m50\u001b[0m\u001b[0;34m)\u001b[0m\u001b[0;34m\u001b[0m\u001b[0;34m\u001b[0m\u001b[0m\n\u001b[1;32m     13\u001b[0m \u001b[0mrf_grid\u001b[0m \u001b[0;34m=\u001b[0m \u001b[0mGridSearchCV\u001b[0m\u001b[0;34m(\u001b[0m\u001b[0mrf\u001b[0m\u001b[0;34m,\u001b[0m \u001b[0mparam_grid\u001b[0m \u001b[0;34m=\u001b[0m \u001b[0mrf_params\u001b[0m\u001b[0;34m,\u001b[0m  \u001b[0mscoring\u001b[0m \u001b[0;34m=\u001b[0m \u001b[0;34m'neg_mean_absolute_error'\u001b[0m\u001b[0;34m,\u001b[0m \u001b[0mcv\u001b[0m\u001b[0;34m=\u001b[0m\u001b[0;36m5\u001b[0m\u001b[0;34m,\u001b[0m \u001b[0mn_jobs\u001b[0m\u001b[0;34m=\u001b[0m\u001b[0;34m-\u001b[0m\u001b[0;36m1\u001b[0m\u001b[0;34m)\u001b[0m\u001b[0;34m\u001b[0m\u001b[0;34m\u001b[0m\u001b[0m\n\u001b[0;32m---> 14\u001b[0;31m \u001b[0mrf_grid\u001b[0m\u001b[0;34m.\u001b[0m\u001b[0mfit\u001b[0m\u001b[0;34m(\u001b[0m\u001b[0mX_train\u001b[0m\u001b[0;34m,\u001b[0m \u001b[0my_train\u001b[0m\u001b[0;34m)\u001b[0m\u001b[0;34m\u001b[0m\u001b[0;34m\u001b[0m\u001b[0m\n\u001b[0m",
            "\u001b[0;32m/usr/local/lib/python3.9/dist-packages/sklearn/model_selection/_search.py\u001b[0m in \u001b[0;36mfit\u001b[0;34m(self, X, y, groups, **fit_params)\u001b[0m\n\u001b[1;32m    872\u001b[0m                 \u001b[0;32mreturn\u001b[0m \u001b[0mresults\u001b[0m\u001b[0;34m\u001b[0m\u001b[0;34m\u001b[0m\u001b[0m\n\u001b[1;32m    873\u001b[0m \u001b[0;34m\u001b[0m\u001b[0m\n\u001b[0;32m--> 874\u001b[0;31m             \u001b[0mself\u001b[0m\u001b[0;34m.\u001b[0m\u001b[0m_run_search\u001b[0m\u001b[0;34m(\u001b[0m\u001b[0mevaluate_candidates\u001b[0m\u001b[0;34m)\u001b[0m\u001b[0;34m\u001b[0m\u001b[0;34m\u001b[0m\u001b[0m\n\u001b[0m\u001b[1;32m    875\u001b[0m \u001b[0;34m\u001b[0m\u001b[0m\n\u001b[1;32m    876\u001b[0m             \u001b[0;31m# multimetric is determined here because in the case of a callable\u001b[0m\u001b[0;34m\u001b[0m\u001b[0;34m\u001b[0m\u001b[0m\n",
            "\u001b[0;32m/usr/local/lib/python3.9/dist-packages/sklearn/model_selection/_search.py\u001b[0m in \u001b[0;36m_run_search\u001b[0;34m(self, evaluate_candidates)\u001b[0m\n\u001b[1;32m   1386\u001b[0m     \u001b[0;32mdef\u001b[0m \u001b[0m_run_search\u001b[0m\u001b[0;34m(\u001b[0m\u001b[0mself\u001b[0m\u001b[0;34m,\u001b[0m \u001b[0mevaluate_candidates\u001b[0m\u001b[0;34m)\u001b[0m\u001b[0;34m:\u001b[0m\u001b[0;34m\u001b[0m\u001b[0;34m\u001b[0m\u001b[0m\n\u001b[1;32m   1387\u001b[0m         \u001b[0;34m\"\"\"Search all candidates in param_grid\"\"\"\u001b[0m\u001b[0;34m\u001b[0m\u001b[0;34m\u001b[0m\u001b[0m\n\u001b[0;32m-> 1388\u001b[0;31m         \u001b[0mevaluate_candidates\u001b[0m\u001b[0;34m(\u001b[0m\u001b[0mParameterGrid\u001b[0m\u001b[0;34m(\u001b[0m\u001b[0mself\u001b[0m\u001b[0;34m.\u001b[0m\u001b[0mparam_grid\u001b[0m\u001b[0;34m)\u001b[0m\u001b[0;34m)\u001b[0m\u001b[0;34m\u001b[0m\u001b[0;34m\u001b[0m\u001b[0m\n\u001b[0m\u001b[1;32m   1389\u001b[0m \u001b[0;34m\u001b[0m\u001b[0m\n\u001b[1;32m   1390\u001b[0m \u001b[0;34m\u001b[0m\u001b[0m\n",
            "\u001b[0;32m/usr/local/lib/python3.9/dist-packages/sklearn/model_selection/_search.py\u001b[0m in \u001b[0;36mevaluate_candidates\u001b[0;34m(candidate_params, cv, more_results)\u001b[0m\n\u001b[1;32m    819\u001b[0m                     )\n\u001b[1;32m    820\u001b[0m \u001b[0;34m\u001b[0m\u001b[0m\n\u001b[0;32m--> 821\u001b[0;31m                 out = parallel(\n\u001b[0m\u001b[1;32m    822\u001b[0m                     delayed(_fit_and_score)(\n\u001b[1;32m    823\u001b[0m                         \u001b[0mclone\u001b[0m\u001b[0;34m(\u001b[0m\u001b[0mbase_estimator\u001b[0m\u001b[0;34m)\u001b[0m\u001b[0;34m,\u001b[0m\u001b[0;34m\u001b[0m\u001b[0;34m\u001b[0m\u001b[0m\n",
            "\u001b[0;32m/usr/local/lib/python3.9/dist-packages/sklearn/utils/parallel.py\u001b[0m in \u001b[0;36m__call__\u001b[0;34m(self, iterable)\u001b[0m\n\u001b[1;32m     61\u001b[0m             \u001b[0;32mfor\u001b[0m \u001b[0mdelayed_func\u001b[0m\u001b[0;34m,\u001b[0m \u001b[0margs\u001b[0m\u001b[0;34m,\u001b[0m \u001b[0mkwargs\u001b[0m \u001b[0;32min\u001b[0m \u001b[0miterable\u001b[0m\u001b[0;34m\u001b[0m\u001b[0;34m\u001b[0m\u001b[0m\n\u001b[1;32m     62\u001b[0m         )\n\u001b[0;32m---> 63\u001b[0;31m         \u001b[0;32mreturn\u001b[0m \u001b[0msuper\u001b[0m\u001b[0;34m(\u001b[0m\u001b[0;34m)\u001b[0m\u001b[0;34m.\u001b[0m\u001b[0m__call__\u001b[0m\u001b[0;34m(\u001b[0m\u001b[0miterable_with_config\u001b[0m\u001b[0;34m)\u001b[0m\u001b[0;34m\u001b[0m\u001b[0;34m\u001b[0m\u001b[0m\n\u001b[0m\u001b[1;32m     64\u001b[0m \u001b[0;34m\u001b[0m\u001b[0m\n\u001b[1;32m     65\u001b[0m \u001b[0;34m\u001b[0m\u001b[0m\n",
            "\u001b[0;32m/usr/local/lib/python3.9/dist-packages/joblib/parallel.py\u001b[0m in \u001b[0;36m__call__\u001b[0;34m(self, iterable)\u001b[0m\n\u001b[1;32m   1059\u001b[0m \u001b[0;34m\u001b[0m\u001b[0m\n\u001b[1;32m   1060\u001b[0m             \u001b[0;32mwith\u001b[0m \u001b[0mself\u001b[0m\u001b[0;34m.\u001b[0m\u001b[0m_backend\u001b[0m\u001b[0;34m.\u001b[0m\u001b[0mretrieval_context\u001b[0m\u001b[0;34m(\u001b[0m\u001b[0;34m)\u001b[0m\u001b[0;34m:\u001b[0m\u001b[0;34m\u001b[0m\u001b[0;34m\u001b[0m\u001b[0m\n\u001b[0;32m-> 1061\u001b[0;31m                 \u001b[0mself\u001b[0m\u001b[0;34m.\u001b[0m\u001b[0mretrieve\u001b[0m\u001b[0;34m(\u001b[0m\u001b[0;34m)\u001b[0m\u001b[0;34m\u001b[0m\u001b[0;34m\u001b[0m\u001b[0m\n\u001b[0m\u001b[1;32m   1062\u001b[0m             \u001b[0;31m# Make sure that we get a last message telling us we are done\u001b[0m\u001b[0;34m\u001b[0m\u001b[0;34m\u001b[0m\u001b[0m\n\u001b[1;32m   1063\u001b[0m             \u001b[0melapsed_time\u001b[0m \u001b[0;34m=\u001b[0m \u001b[0mtime\u001b[0m\u001b[0;34m.\u001b[0m\u001b[0mtime\u001b[0m\u001b[0;34m(\u001b[0m\u001b[0;34m)\u001b[0m \u001b[0;34m-\u001b[0m \u001b[0mself\u001b[0m\u001b[0;34m.\u001b[0m\u001b[0m_start_time\u001b[0m\u001b[0;34m\u001b[0m\u001b[0;34m\u001b[0m\u001b[0m\n",
            "\u001b[0;32m/usr/local/lib/python3.9/dist-packages/joblib/parallel.py\u001b[0m in \u001b[0;36mretrieve\u001b[0;34m(self)\u001b[0m\n\u001b[1;32m    936\u001b[0m             \u001b[0;32mtry\u001b[0m\u001b[0;34m:\u001b[0m\u001b[0;34m\u001b[0m\u001b[0;34m\u001b[0m\u001b[0m\n\u001b[1;32m    937\u001b[0m                 \u001b[0;32mif\u001b[0m \u001b[0mgetattr\u001b[0m\u001b[0;34m(\u001b[0m\u001b[0mself\u001b[0m\u001b[0;34m.\u001b[0m\u001b[0m_backend\u001b[0m\u001b[0;34m,\u001b[0m \u001b[0;34m'supports_timeout'\u001b[0m\u001b[0;34m,\u001b[0m \u001b[0;32mFalse\u001b[0m\u001b[0;34m)\u001b[0m\u001b[0;34m:\u001b[0m\u001b[0;34m\u001b[0m\u001b[0;34m\u001b[0m\u001b[0m\n\u001b[0;32m--> 938\u001b[0;31m                     \u001b[0mself\u001b[0m\u001b[0;34m.\u001b[0m\u001b[0m_output\u001b[0m\u001b[0;34m.\u001b[0m\u001b[0mextend\u001b[0m\u001b[0;34m(\u001b[0m\u001b[0mjob\u001b[0m\u001b[0;34m.\u001b[0m\u001b[0mget\u001b[0m\u001b[0;34m(\u001b[0m\u001b[0mtimeout\u001b[0m\u001b[0;34m=\u001b[0m\u001b[0mself\u001b[0m\u001b[0;34m.\u001b[0m\u001b[0mtimeout\u001b[0m\u001b[0;34m)\u001b[0m\u001b[0;34m)\u001b[0m\u001b[0;34m\u001b[0m\u001b[0;34m\u001b[0m\u001b[0m\n\u001b[0m\u001b[1;32m    939\u001b[0m                 \u001b[0;32melse\u001b[0m\u001b[0;34m:\u001b[0m\u001b[0;34m\u001b[0m\u001b[0;34m\u001b[0m\u001b[0m\n\u001b[1;32m    940\u001b[0m                     \u001b[0mself\u001b[0m\u001b[0;34m.\u001b[0m\u001b[0m_output\u001b[0m\u001b[0;34m.\u001b[0m\u001b[0mextend\u001b[0m\u001b[0;34m(\u001b[0m\u001b[0mjob\u001b[0m\u001b[0;34m.\u001b[0m\u001b[0mget\u001b[0m\u001b[0;34m(\u001b[0m\u001b[0;34m)\u001b[0m\u001b[0;34m)\u001b[0m\u001b[0;34m\u001b[0m\u001b[0;34m\u001b[0m\u001b[0m\n",
            "\u001b[0;32m/usr/local/lib/python3.9/dist-packages/joblib/_parallel_backends.py\u001b[0m in \u001b[0;36mwrap_future_result\u001b[0;34m(future, timeout)\u001b[0m\n\u001b[1;32m    540\u001b[0m         AsyncResults.get from multiprocessing.\"\"\"\n\u001b[1;32m    541\u001b[0m         \u001b[0;32mtry\u001b[0m\u001b[0;34m:\u001b[0m\u001b[0;34m\u001b[0m\u001b[0;34m\u001b[0m\u001b[0m\n\u001b[0;32m--> 542\u001b[0;31m             \u001b[0;32mreturn\u001b[0m \u001b[0mfuture\u001b[0m\u001b[0;34m.\u001b[0m\u001b[0mresult\u001b[0m\u001b[0;34m(\u001b[0m\u001b[0mtimeout\u001b[0m\u001b[0;34m=\u001b[0m\u001b[0mtimeout\u001b[0m\u001b[0;34m)\u001b[0m\u001b[0;34m\u001b[0m\u001b[0;34m\u001b[0m\u001b[0m\n\u001b[0m\u001b[1;32m    543\u001b[0m         \u001b[0;32mexcept\u001b[0m \u001b[0mCfTimeoutError\u001b[0m \u001b[0;32mas\u001b[0m \u001b[0me\u001b[0m\u001b[0;34m:\u001b[0m\u001b[0;34m\u001b[0m\u001b[0;34m\u001b[0m\u001b[0m\n\u001b[1;32m    544\u001b[0m             \u001b[0;32mraise\u001b[0m \u001b[0mTimeoutError\u001b[0m \u001b[0;32mfrom\u001b[0m \u001b[0me\u001b[0m\u001b[0;34m\u001b[0m\u001b[0;34m\u001b[0m\u001b[0m\n",
            "\u001b[0;32m/usr/lib/python3.9/concurrent/futures/_base.py\u001b[0m in \u001b[0;36mresult\u001b[0;34m(self, timeout)\u001b[0m\n\u001b[1;32m    439\u001b[0m                     \u001b[0;32mreturn\u001b[0m \u001b[0mself\u001b[0m\u001b[0;34m.\u001b[0m\u001b[0m__get_result\u001b[0m\u001b[0;34m(\u001b[0m\u001b[0;34m)\u001b[0m\u001b[0;34m\u001b[0m\u001b[0;34m\u001b[0m\u001b[0m\n\u001b[1;32m    440\u001b[0m \u001b[0;34m\u001b[0m\u001b[0m\n\u001b[0;32m--> 441\u001b[0;31m                 \u001b[0mself\u001b[0m\u001b[0;34m.\u001b[0m\u001b[0m_condition\u001b[0m\u001b[0;34m.\u001b[0m\u001b[0mwait\u001b[0m\u001b[0;34m(\u001b[0m\u001b[0mtimeout\u001b[0m\u001b[0;34m)\u001b[0m\u001b[0;34m\u001b[0m\u001b[0;34m\u001b[0m\u001b[0m\n\u001b[0m\u001b[1;32m    442\u001b[0m \u001b[0;34m\u001b[0m\u001b[0m\n\u001b[1;32m    443\u001b[0m                 \u001b[0;32mif\u001b[0m \u001b[0mself\u001b[0m\u001b[0;34m.\u001b[0m\u001b[0m_state\u001b[0m \u001b[0;32min\u001b[0m \u001b[0;34m[\u001b[0m\u001b[0mCANCELLED\u001b[0m\u001b[0;34m,\u001b[0m \u001b[0mCANCELLED_AND_NOTIFIED\u001b[0m\u001b[0;34m]\u001b[0m\u001b[0;34m:\u001b[0m\u001b[0;34m\u001b[0m\u001b[0;34m\u001b[0m\u001b[0m\n",
            "\u001b[0;32m/usr/lib/python3.9/threading.py\u001b[0m in \u001b[0;36mwait\u001b[0;34m(self, timeout)\u001b[0m\n\u001b[1;32m    310\u001b[0m         \u001b[0;32mtry\u001b[0m\u001b[0;34m:\u001b[0m    \u001b[0;31m# restore state no matter what (e.g., KeyboardInterrupt)\u001b[0m\u001b[0;34m\u001b[0m\u001b[0;34m\u001b[0m\u001b[0m\n\u001b[1;32m    311\u001b[0m             \u001b[0;32mif\u001b[0m \u001b[0mtimeout\u001b[0m \u001b[0;32mis\u001b[0m \u001b[0;32mNone\u001b[0m\u001b[0;34m:\u001b[0m\u001b[0;34m\u001b[0m\u001b[0;34m\u001b[0m\u001b[0m\n\u001b[0;32m--> 312\u001b[0;31m                 \u001b[0mwaiter\u001b[0m\u001b[0;34m.\u001b[0m\u001b[0macquire\u001b[0m\u001b[0;34m(\u001b[0m\u001b[0;34m)\u001b[0m\u001b[0;34m\u001b[0m\u001b[0;34m\u001b[0m\u001b[0m\n\u001b[0m\u001b[1;32m    313\u001b[0m                 \u001b[0mgotit\u001b[0m \u001b[0;34m=\u001b[0m \u001b[0;32mTrue\u001b[0m\u001b[0;34m\u001b[0m\u001b[0;34m\u001b[0m\u001b[0m\n\u001b[1;32m    314\u001b[0m             \u001b[0;32melse\u001b[0m\u001b[0;34m:\u001b[0m\u001b[0;34m\u001b[0m\u001b[0;34m\u001b[0m\u001b[0m\n",
            "\u001b[0;31mKeyboardInterrupt\u001b[0m: "
          ]
        }
      ]
    },
    {
      "cell_type": "code",
      "source": [
        "rf_grid.best_params_"
      ],
      "metadata": {
        "colab": {
          "base_uri": "https://localhost:8080/"
        },
        "id": "GLu5KKNZpR0m",
        "outputId": "7bae39fa-9378-46c6-994a-44863c8cb975"
      },
      "id": "GLu5KKNZpR0m",
      "execution_count": 10,
      "outputs": [
        {
          "output_type": "execute_result",
          "data": {
            "text/plain": [
              "{'ccp_alpha': 0,\n",
              " 'criterion': 'squared_error',\n",
              " 'max_depth': 30,\n",
              " 'max_features': 0.5,\n",
              " 'min_impurity_decrease': 0.15,\n",
              " 'min_weight_fraction_leaf': 0,\n",
              " 'oob_score': True}"
            ]
          },
          "metadata": {},
          "execution_count": 10
        }
      ]
    },
    {
      "cell_type": "code",
      "source": [
        "rf_reg = RandomForestRegressor(random_state = 16, max_depth = 30, max_features = 0.5, min_impurity_decrease = 0.17, oob_score = True,\n",
        "                               min_weight_fraction_leaf = 0,criterion = 'squared_error', n_estimators=1200,n_jobs=-1)"
      ],
      "metadata": {
        "id": "oXbH1040u44Q"
      },
      "id": "oXbH1040u44Q",
      "execution_count": 73,
      "outputs": []
    },
    {
      "cell_type": "code",
      "source": [
        "rf_reg.fit(X_train, y_train)"
      ],
      "metadata": {
        "colab": {
          "base_uri": "https://localhost:8080/",
          "height": 127
        },
        "id": "0k9t9xLtvwUc",
        "outputId": "ce82080c-266d-4431-d4ec-b54e01cf2340"
      },
      "id": "0k9t9xLtvwUc",
      "execution_count": 74,
      "outputs": [
        {
          "output_type": "execute_result",
          "data": {
            "text/plain": [
              "RandomForestRegressor(max_depth=30, max_features=0.5,\n",
              "                      min_impurity_decrease=0.17, min_weight_fraction_leaf=0,\n",
              "                      n_estimators=1200, n_jobs=-1, oob_score=True,\n",
              "                      random_state=16)"
            ],
            "text/html": [
              "<style>#sk-container-id-23 {color: black;background-color: white;}#sk-container-id-23 pre{padding: 0;}#sk-container-id-23 div.sk-toggleable {background-color: white;}#sk-container-id-23 label.sk-toggleable__label {cursor: pointer;display: block;width: 100%;margin-bottom: 0;padding: 0.3em;box-sizing: border-box;text-align: center;}#sk-container-id-23 label.sk-toggleable__label-arrow:before {content: \"▸\";float: left;margin-right: 0.25em;color: #696969;}#sk-container-id-23 label.sk-toggleable__label-arrow:hover:before {color: black;}#sk-container-id-23 div.sk-estimator:hover label.sk-toggleable__label-arrow:before {color: black;}#sk-container-id-23 div.sk-toggleable__content {max-height: 0;max-width: 0;overflow: hidden;text-align: left;background-color: #f0f8ff;}#sk-container-id-23 div.sk-toggleable__content pre {margin: 0.2em;color: black;border-radius: 0.25em;background-color: #f0f8ff;}#sk-container-id-23 input.sk-toggleable__control:checked~div.sk-toggleable__content {max-height: 200px;max-width: 100%;overflow: auto;}#sk-container-id-23 input.sk-toggleable__control:checked~label.sk-toggleable__label-arrow:before {content: \"▾\";}#sk-container-id-23 div.sk-estimator input.sk-toggleable__control:checked~label.sk-toggleable__label {background-color: #d4ebff;}#sk-container-id-23 div.sk-label input.sk-toggleable__control:checked~label.sk-toggleable__label {background-color: #d4ebff;}#sk-container-id-23 input.sk-hidden--visually {border: 0;clip: rect(1px 1px 1px 1px);clip: rect(1px, 1px, 1px, 1px);height: 1px;margin: -1px;overflow: hidden;padding: 0;position: absolute;width: 1px;}#sk-container-id-23 div.sk-estimator {font-family: monospace;background-color: #f0f8ff;border: 1px dotted black;border-radius: 0.25em;box-sizing: border-box;margin-bottom: 0.5em;}#sk-container-id-23 div.sk-estimator:hover {background-color: #d4ebff;}#sk-container-id-23 div.sk-parallel-item::after {content: \"\";width: 100%;border-bottom: 1px solid gray;flex-grow: 1;}#sk-container-id-23 div.sk-label:hover label.sk-toggleable__label {background-color: #d4ebff;}#sk-container-id-23 div.sk-serial::before {content: \"\";position: absolute;border-left: 1px solid gray;box-sizing: border-box;top: 0;bottom: 0;left: 50%;z-index: 0;}#sk-container-id-23 div.sk-serial {display: flex;flex-direction: column;align-items: center;background-color: white;padding-right: 0.2em;padding-left: 0.2em;position: relative;}#sk-container-id-23 div.sk-item {position: relative;z-index: 1;}#sk-container-id-23 div.sk-parallel {display: flex;align-items: stretch;justify-content: center;background-color: white;position: relative;}#sk-container-id-23 div.sk-item::before, #sk-container-id-23 div.sk-parallel-item::before {content: \"\";position: absolute;border-left: 1px solid gray;box-sizing: border-box;top: 0;bottom: 0;left: 50%;z-index: -1;}#sk-container-id-23 div.sk-parallel-item {display: flex;flex-direction: column;z-index: 1;position: relative;background-color: white;}#sk-container-id-23 div.sk-parallel-item:first-child::after {align-self: flex-end;width: 50%;}#sk-container-id-23 div.sk-parallel-item:last-child::after {align-self: flex-start;width: 50%;}#sk-container-id-23 div.sk-parallel-item:only-child::after {width: 0;}#sk-container-id-23 div.sk-dashed-wrapped {border: 1px dashed gray;margin: 0 0.4em 0.5em 0.4em;box-sizing: border-box;padding-bottom: 0.4em;background-color: white;}#sk-container-id-23 div.sk-label label {font-family: monospace;font-weight: bold;display: inline-block;line-height: 1.2em;}#sk-container-id-23 div.sk-label-container {text-align: center;}#sk-container-id-23 div.sk-container {/* jupyter's `normalize.less` sets `[hidden] { display: none; }` but bootstrap.min.css set `[hidden] { display: none !important; }` so we also need the `!important` here to be able to override the default hidden behavior on the sphinx rendered scikit-learn.org. See: https://github.com/scikit-learn/scikit-learn/issues/21755 */display: inline-block !important;position: relative;}#sk-container-id-23 div.sk-text-repr-fallback {display: none;}</style><div id=\"sk-container-id-23\" class=\"sk-top-container\"><div class=\"sk-text-repr-fallback\"><pre>RandomForestRegressor(max_depth=30, max_features=0.5,\n",
              "                      min_impurity_decrease=0.17, min_weight_fraction_leaf=0,\n",
              "                      n_estimators=1200, n_jobs=-1, oob_score=True,\n",
              "                      random_state=16)</pre><b>In a Jupyter environment, please rerun this cell to show the HTML representation or trust the notebook. <br />On GitHub, the HTML representation is unable to render, please try loading this page with nbviewer.org.</b></div><div class=\"sk-container\" hidden><div class=\"sk-item\"><div class=\"sk-estimator sk-toggleable\"><input class=\"sk-toggleable__control sk-hidden--visually\" id=\"sk-estimator-id-25\" type=\"checkbox\" checked><label for=\"sk-estimator-id-25\" class=\"sk-toggleable__label sk-toggleable__label-arrow\">RandomForestRegressor</label><div class=\"sk-toggleable__content\"><pre>RandomForestRegressor(max_depth=30, max_features=0.5,\n",
              "                      min_impurity_decrease=0.17, min_weight_fraction_leaf=0,\n",
              "                      n_estimators=1200, n_jobs=-1, oob_score=True,\n",
              "                      random_state=16)</pre></div></div></div></div></div>"
            ]
          },
          "metadata": {},
          "execution_count": 74
        }
      ]
    },
    {
      "cell_type": "code",
      "source": [
        "y_pred_try = rf_reg.predict(X_test)\n",
        "print('The MAE of the tuned random forest on the test dataset is', \"${:.2f}\".format(mean_absolute_error(y_test, y_pred_try)))"
      ],
      "metadata": {
        "colab": {
          "base_uri": "https://localhost:8080/"
        },
        "id": "ToSFHxtKvTi8",
        "outputId": "6c901eb6-470f-480b-df2b-df568cbdd1a8"
      },
      "id": "ToSFHxtKvTi8",
      "execution_count": 75,
      "outputs": [
        {
          "output_type": "stream",
          "name": "stdout",
          "text": [
            "The MAE of the tuned random forest on the test dataset is $46527.13\n"
          ]
        }
      ]
    },
    {
      "cell_type": "markdown",
      "id": "7b18e636",
      "metadata": {
        "id": "7b18e636"
      },
      "source": [
        "#### Feature importance\n",
        "Arrange and print the predictors in decreasing order of importance.\n",
        "\n",
        "*(4 points)*"
      ]
    },
    {
      "cell_type": "code",
      "source": [
        "for i in range(0,800):\n",
        "  feature_sel = best_rf.feature_names_in_\n",
        "  rf_tree = best_rf.estimators_[i]\n",
        "  importance = rf_tree.feature_importances_ \n",
        "  locals()['rf_importance_table{0}'.format(i)] = pd.DataFrame(data = [feature_sel,importance], index = ['feature','importance'+str(i)]).T"
      ],
      "metadata": {
        "id": "QYqc0fP-0msF"
      },
      "id": "QYqc0fP-0msF",
      "execution_count": null,
      "outputs": []
    },
    {
      "cell_type": "code",
      "source": [
        "rf_importance_table = rf_importance_table0\n",
        "for i in range(1,800):\n",
        "  rf_importance_table = rf_importance_table.merge(locals()['rf_importance_table{0}'.format(i)], how = 'outer', on ='feature')"
      ],
      "metadata": {
        "id": "MDqntylw039V"
      },
      "id": "MDqntylw039V",
      "execution_count": null,
      "outputs": []
    },
    {
      "cell_type": "code",
      "source": [
        "rf_importance_table.set_index('feature', inplace=True)"
      ],
      "metadata": {
        "id": "0oIzmo4P1AMq"
      },
      "id": "0oIzmo4P1AMq",
      "execution_count": null,
      "outputs": []
    },
    {
      "cell_type": "code",
      "source": [
        "rf_importance_table.mean(axis = 1).sort_values(ascending = False)"
      ],
      "metadata": {
        "colab": {
          "base_uri": "https://localhost:8080/"
        },
        "id": "DYPwBBKj1Cd-",
        "outputId": "5072c9b7-7409-47fa-da51-7de4ae25d813"
      },
      "id": "DYPwBBKj1Cd-",
      "execution_count": null,
      "outputs": [
        {
          "output_type": "execute_result",
          "data": {
            "text/plain": [
              "feature\n",
              "TOT_LVG_AREA         0.308953\n",
              "OCEAN_DIST           0.149118\n",
              "structure_quality    0.105510\n",
              "CNTR_DIST            0.077871\n",
              "SPEC_FEAT_VAL        0.076137\n",
              "LONGITUDE            0.065811\n",
              "SUBCNTR_DI           0.061608\n",
              "LND_SQFOOT           0.035445\n",
              "WATER_DIST           0.030799\n",
              "LATITUDE             0.029611\n",
              "age                  0.019989\n",
              "HWY_DIST             0.017033\n",
              "RAIL_DIST            0.016987\n",
              "month_sold           0.004952\n",
              "avno60plus           0.000176\n",
              "dtype: float64"
            ]
          },
          "metadata": {},
          "execution_count": 30
        }
      ]
    },
    {
      "cell_type": "markdown",
      "id": "ba0e973d",
      "metadata": {
        "id": "ba0e973d"
      },
      "source": [
        "#### Random forest vs bagging: `max_features` "
      ]
    },
    {
      "cell_type": "markdown",
      "id": "ab4211a1",
      "metadata": {
        "id": "ab4211a1"
      },
      "source": [
        "Note that the `max_features` hyperparameter is there both in the `RandomForestRegressor()` function and the `BaggingRegressor()` function. Does it have the same meaning in both the functions? If not, then what is the difference?\n",
        "\n",
        "**Hint:** Check scikit-learn documentation\n",
        "\n",
        "*(1 + 3 points)*"
      ]
    },
    {
      "cell_type": "markdown",
      "source": [
        "They do not mean the same thing. In `BaggingRegressor()` it means the number of features to draw from X to train each estimator. In random `RandomForestRegressor()`, it means the number of features to consider when splitting the data."
      ],
      "metadata": {
        "id": "T-K1S46t29Iy"
      },
      "id": "T-K1S46t29Iy"
    },
    {
      "cell_type": "markdown",
      "id": "687ae154",
      "metadata": {
        "id": "687ae154"
      },
      "source": [
        "## Classification - Term deposit"
      ]
    },
    {
      "cell_type": "markdown",
      "id": "d6b9e803",
      "metadata": {
        "id": "d6b9e803"
      },
      "source": [
        "The data for this question is related with direct marketing campaigns of a Portuguese banking institution. The marketing campaigns were based on phone calls, where bank clients were called to subscribe for a term deposit. \n",
        "\n",
        "There is a train data - *train.csv*, which you will use to develop a model. There is a test data - *test.csv*, which you will use to test your model. Each dataset has the following attributes about the clients called in the marketing campaign:\n",
        "\n",
        "1. `age`: Age of the client\n",
        "\n",
        "2. `education`: Education level of the client \n",
        "\n",
        "3. `day`: Day of the month the call is made\n",
        "\n",
        "4. `month`: Month of the call \n",
        "\n",
        "5. `y`: did the client subscribe to a term deposit? \n",
        "\n",
        "6. `duration`: Call duration, in seconds. This attribute highly affects the output target (e.g., if `duration`=0 then `y`='no'). Yet, the duration is not known before a call is performed. Also, after the end of the call `y` is obviously known. Thus, this input should only be included for inference purposes and should be discarded if the intention is to have a realistic predictive model.\n",
        "\n",
        "(Raw data source: [Source](https://archive.ics.uci.edu/ml/datasets/bank+marketing). Do not use the raw data source for this assignment. It is just for reference.)"
      ]
    },
    {
      "cell_type": "markdown",
      "id": "a7a2b007",
      "metadata": {
        "id": "a7a2b007"
      },
      "source": [
        "### Data preparation\n",
        "Convert all the categorical predictors in the data to dummy variables. Note that `month` and `education` are categorical variables.\n",
        "\n",
        "*(2 points)*"
      ]
    },
    {
      "cell_type": "code",
      "source": [
        "train_cl = pd.read_csv('train.csv')\n",
        "test_cl = pd.read_csv('test.csv')"
      ],
      "metadata": {
        "id": "m-4YPokYkhtC"
      },
      "id": "m-4YPokYkhtC",
      "execution_count": 77,
      "outputs": []
    },
    {
      "cell_type": "code",
      "source": [
        "X_train_cl = train_cl.drop(columns = ['duration','y'])\n",
        "y_train_cl = train_cl['y']\n",
        "X_test_cl = test_cl.drop(columns = ['duration','y'])\n",
        "y_test_cl = test_cl['y']"
      ],
      "metadata": {
        "id": "fySj_fAfkkhe"
      },
      "id": "fySj_fAfkkhe",
      "execution_count": 78,
      "outputs": []
    },
    {
      "cell_type": "code",
      "source": [
        "X_train_cl = pd.get_dummies(X_train_cl, drop_first = True)\n",
        "X_test_cl = pd.get_dummies(X_test_cl, drop_first = True)\n",
        "y_test_cl = pd.get_dummies(y_test_cl, drop_first = True)\n",
        "y_train_cl = pd.get_dummies(y_train_cl, drop_first = True)"
      ],
      "metadata": {
        "id": "5GL_QESY1ITi"
      },
      "id": "5GL_QESY1ITi",
      "execution_count": 79,
      "outputs": []
    },
    {
      "cell_type": "markdown",
      "id": "857c60c0",
      "metadata": {
        "id": "857c60c0"
      },
      "source": [
        "### Decision tree\n",
        "Develop and tune a **decision tree model** to predict the probability of a client subscribing to a term deposit based on `age`, `education`, `day` and `month`. The model must have: \n",
        "\n",
        "(a)  **Minimum overall classification accuracy of 70%** among the classifcation accuracies on *train.csv*, and *test.csv*. \n",
        "\n",
        "(b) **Minimum recall of 60%** among the recall on *train.csv*, and *test.csv*. \n",
        "\n",
        "Print the accuracy and recall for both the datasets - *train.csv*, and *test.csv*.\n",
        "\n",
        "Note that: \n",
        "\n",
        "i. You cannot use `duration` as a predictor. The predictor is not useful for prediction because its value is determined after the marketing call ends. However, after the call ends, we already know whether the client responded positively or negatively. \n",
        "\n",
        "ii. You are free to choose any value of threshold probability for classifying observations. However, you must use the same threshold on both the datasets.\n",
        "\n",
        "iii. Use cross-validation on train data to optimize the model hyperparameters.\n",
        "\n",
        "iv. Using the optimal model hyperparameters obtained in (iii), develop the decision tree model. Plot the 5-fold cross-validated accuracy and recall against decision threshold probability. Tune the decision threshold probability based on the plot, or the data underlying the plot to achieve the required trade-off between recall and accuracy.\n",
        "\n",
        "v. Evaluate the accuracy and recall of the developed model with the tuned decision threshold probability on both the datasets. Note that the test dataset must only be used to evaluate performance metrics, and not optimize any hyperparameters or decision threshold probability.\n",
        "\n",
        "*(14 points - 4 points for tuning the hyperparameters, 4 points for making the plot, 4 points for tuning the decision threshold probability based on the plot, and 2 points for printing the accuracy & recall on both the datasets)*\n",
        "\n",
        "**Hint:** Restrict the search for `max_depth` to a maximum of 25, and `max_leaf_nodes` to a maximum of 50. Without this restriction, you may get a better recall for threshold probability = 0.5, but are likely to get a worse trade-off between recall and accuracy.\n",
        "\n",
        "It is up to you to pick the hyperparameters and their values in the grid."
      ]
    },
    {
      "cell_type": "code",
      "source": [
        "tree_cl_params = {'criterion':['gini','entropy'],\n",
        "                  'max_depth':[9,10,11,12,15,17,22],\n",
        "                  'max_leaf_nodes':[24,25,28,45,36,13,42],\n",
        "                  'max_features':['sqrt', 'log2', 0.5, None],\n",
        "                  #'class_weight':['balanced', None],\n",
        "                  #'ccp_alpha':np.arange(0,0.2,0.02),\n",
        "                  #'splitter': ['best', 'random'],\n",
        "                  #'min_samples_split':[2,5,10,50,100],\n",
        "                  'min_samples_leaf': [45,46,47,48,49,50],\n",
        "                  #'min_weight_fraction_leaf':[0.0, 0.1, 0.5],\n",
        "                  #'min_impurity_decrease': [0.0, 0.05, 0.1]\n",
        "                  }"
      ],
      "metadata": {
        "id": "1Md7XlBV1lZq"
      },
      "id": "1Md7XlBV1lZq",
      "execution_count": 80,
      "outputs": []
    },
    {
      "cell_type": "code",
      "source": [
        "skf = StratifiedKFold(n_splits=5)"
      ],
      "metadata": {
        "id": "aT47nQqJkXoU"
      },
      "id": "aT47nQqJkXoU",
      "execution_count": 81,
      "outputs": []
    },
    {
      "cell_type": "code",
      "source": [
        "dec_tree = DecisionTreeClassifier(random_state = 45)\n",
        "dec_tree_grid = GridSearchCV(dec_tree, param_grid = tree_cl_params, scoring = ['accuracy','recall'], refit = 'accuracy', cv=skf, n_jobs=-1)\n",
        "dec_tree_grid.fit(X_train_cl, y_train_cl.yes)"
      ],
      "metadata": {
        "colab": {
          "base_uri": "https://localhost:8080/",
          "height": 118
        },
        "id": "8ZEtXTyOBIgT",
        "outputId": "9182177f-2e7f-4bf7-fab0-4c9a835761fc"
      },
      "id": "8ZEtXTyOBIgT",
      "execution_count": 82,
      "outputs": [
        {
          "output_type": "execute_result",
          "data": {
            "text/plain": [
              "GridSearchCV(cv=StratifiedKFold(n_splits=5, random_state=None, shuffle=False),\n",
              "             estimator=DecisionTreeClassifier(random_state=45), n_jobs=-1,\n",
              "             param_grid={'criterion': ['gini', 'entropy'],\n",
              "                         'max_depth': [9, 10, 11, 12, 15, 17, 22],\n",
              "                         'max_features': ['sqrt', 'log2', 0.5, None],\n",
              "                         'max_leaf_nodes': [24, 25, 28, 45, 36, 13, 42],\n",
              "                         'min_samples_leaf': [45, 46, 47, 48, 49, 50]},\n",
              "             refit='accuracy', scoring=['accuracy', 'recall'])"
            ],
            "text/html": [
              "<style>#sk-container-id-24 {color: black;background-color: white;}#sk-container-id-24 pre{padding: 0;}#sk-container-id-24 div.sk-toggleable {background-color: white;}#sk-container-id-24 label.sk-toggleable__label {cursor: pointer;display: block;width: 100%;margin-bottom: 0;padding: 0.3em;box-sizing: border-box;text-align: center;}#sk-container-id-24 label.sk-toggleable__label-arrow:before {content: \"▸\";float: left;margin-right: 0.25em;color: #696969;}#sk-container-id-24 label.sk-toggleable__label-arrow:hover:before {color: black;}#sk-container-id-24 div.sk-estimator:hover label.sk-toggleable__label-arrow:before {color: black;}#sk-container-id-24 div.sk-toggleable__content {max-height: 0;max-width: 0;overflow: hidden;text-align: left;background-color: #f0f8ff;}#sk-container-id-24 div.sk-toggleable__content pre {margin: 0.2em;color: black;border-radius: 0.25em;background-color: #f0f8ff;}#sk-container-id-24 input.sk-toggleable__control:checked~div.sk-toggleable__content {max-height: 200px;max-width: 100%;overflow: auto;}#sk-container-id-24 input.sk-toggleable__control:checked~label.sk-toggleable__label-arrow:before {content: \"▾\";}#sk-container-id-24 div.sk-estimator input.sk-toggleable__control:checked~label.sk-toggleable__label {background-color: #d4ebff;}#sk-container-id-24 div.sk-label input.sk-toggleable__control:checked~label.sk-toggleable__label {background-color: #d4ebff;}#sk-container-id-24 input.sk-hidden--visually {border: 0;clip: rect(1px 1px 1px 1px);clip: rect(1px, 1px, 1px, 1px);height: 1px;margin: -1px;overflow: hidden;padding: 0;position: absolute;width: 1px;}#sk-container-id-24 div.sk-estimator {font-family: monospace;background-color: #f0f8ff;border: 1px dotted black;border-radius: 0.25em;box-sizing: border-box;margin-bottom: 0.5em;}#sk-container-id-24 div.sk-estimator:hover {background-color: #d4ebff;}#sk-container-id-24 div.sk-parallel-item::after {content: \"\";width: 100%;border-bottom: 1px solid gray;flex-grow: 1;}#sk-container-id-24 div.sk-label:hover label.sk-toggleable__label {background-color: #d4ebff;}#sk-container-id-24 div.sk-serial::before {content: \"\";position: absolute;border-left: 1px solid gray;box-sizing: border-box;top: 0;bottom: 0;left: 50%;z-index: 0;}#sk-container-id-24 div.sk-serial {display: flex;flex-direction: column;align-items: center;background-color: white;padding-right: 0.2em;padding-left: 0.2em;position: relative;}#sk-container-id-24 div.sk-item {position: relative;z-index: 1;}#sk-container-id-24 div.sk-parallel {display: flex;align-items: stretch;justify-content: center;background-color: white;position: relative;}#sk-container-id-24 div.sk-item::before, #sk-container-id-24 div.sk-parallel-item::before {content: \"\";position: absolute;border-left: 1px solid gray;box-sizing: border-box;top: 0;bottom: 0;left: 50%;z-index: -1;}#sk-container-id-24 div.sk-parallel-item {display: flex;flex-direction: column;z-index: 1;position: relative;background-color: white;}#sk-container-id-24 div.sk-parallel-item:first-child::after {align-self: flex-end;width: 50%;}#sk-container-id-24 div.sk-parallel-item:last-child::after {align-self: flex-start;width: 50%;}#sk-container-id-24 div.sk-parallel-item:only-child::after {width: 0;}#sk-container-id-24 div.sk-dashed-wrapped {border: 1px dashed gray;margin: 0 0.4em 0.5em 0.4em;box-sizing: border-box;padding-bottom: 0.4em;background-color: white;}#sk-container-id-24 div.sk-label label {font-family: monospace;font-weight: bold;display: inline-block;line-height: 1.2em;}#sk-container-id-24 div.sk-label-container {text-align: center;}#sk-container-id-24 div.sk-container {/* jupyter's `normalize.less` sets `[hidden] { display: none; }` but bootstrap.min.css set `[hidden] { display: none !important; }` so we also need the `!important` here to be able to override the default hidden behavior on the sphinx rendered scikit-learn.org. See: https://github.com/scikit-learn/scikit-learn/issues/21755 */display: inline-block !important;position: relative;}#sk-container-id-24 div.sk-text-repr-fallback {display: none;}</style><div id=\"sk-container-id-24\" class=\"sk-top-container\"><div class=\"sk-text-repr-fallback\"><pre>GridSearchCV(cv=StratifiedKFold(n_splits=5, random_state=None, shuffle=False),\n",
              "             estimator=DecisionTreeClassifier(random_state=45), n_jobs=-1,\n",
              "             param_grid={&#x27;criterion&#x27;: [&#x27;gini&#x27;, &#x27;entropy&#x27;],\n",
              "                         &#x27;max_depth&#x27;: [9, 10, 11, 12, 15, 17, 22],\n",
              "                         &#x27;max_features&#x27;: [&#x27;sqrt&#x27;, &#x27;log2&#x27;, 0.5, None],\n",
              "                         &#x27;max_leaf_nodes&#x27;: [24, 25, 28, 45, 36, 13, 42],\n",
              "                         &#x27;min_samples_leaf&#x27;: [45, 46, 47, 48, 49, 50]},\n",
              "             refit=&#x27;accuracy&#x27;, scoring=[&#x27;accuracy&#x27;, &#x27;recall&#x27;])</pre><b>In a Jupyter environment, please rerun this cell to show the HTML representation or trust the notebook. <br />On GitHub, the HTML representation is unable to render, please try loading this page with nbviewer.org.</b></div><div class=\"sk-container\" hidden><div class=\"sk-item sk-dashed-wrapped\"><div class=\"sk-label-container\"><div class=\"sk-label sk-toggleable\"><input class=\"sk-toggleable__control sk-hidden--visually\" id=\"sk-estimator-id-26\" type=\"checkbox\" ><label for=\"sk-estimator-id-26\" class=\"sk-toggleable__label sk-toggleable__label-arrow\">GridSearchCV</label><div class=\"sk-toggleable__content\"><pre>GridSearchCV(cv=StratifiedKFold(n_splits=5, random_state=None, shuffle=False),\n",
              "             estimator=DecisionTreeClassifier(random_state=45), n_jobs=-1,\n",
              "             param_grid={&#x27;criterion&#x27;: [&#x27;gini&#x27;, &#x27;entropy&#x27;],\n",
              "                         &#x27;max_depth&#x27;: [9, 10, 11, 12, 15, 17, 22],\n",
              "                         &#x27;max_features&#x27;: [&#x27;sqrt&#x27;, &#x27;log2&#x27;, 0.5, None],\n",
              "                         &#x27;max_leaf_nodes&#x27;: [24, 25, 28, 45, 36, 13, 42],\n",
              "                         &#x27;min_samples_leaf&#x27;: [45, 46, 47, 48, 49, 50]},\n",
              "             refit=&#x27;accuracy&#x27;, scoring=[&#x27;accuracy&#x27;, &#x27;recall&#x27;])</pre></div></div></div><div class=\"sk-parallel\"><div class=\"sk-parallel-item\"><div class=\"sk-item\"><div class=\"sk-label-container\"><div class=\"sk-label sk-toggleable\"><input class=\"sk-toggleable__control sk-hidden--visually\" id=\"sk-estimator-id-27\" type=\"checkbox\" ><label for=\"sk-estimator-id-27\" class=\"sk-toggleable__label sk-toggleable__label-arrow\">estimator: DecisionTreeClassifier</label><div class=\"sk-toggleable__content\"><pre>DecisionTreeClassifier(random_state=45)</pre></div></div></div><div class=\"sk-serial\"><div class=\"sk-item\"><div class=\"sk-estimator sk-toggleable\"><input class=\"sk-toggleable__control sk-hidden--visually\" id=\"sk-estimator-id-28\" type=\"checkbox\" ><label for=\"sk-estimator-id-28\" class=\"sk-toggleable__label sk-toggleable__label-arrow\">DecisionTreeClassifier</label><div class=\"sk-toggleable__content\"><pre>DecisionTreeClassifier(random_state=45)</pre></div></div></div></div></div></div></div></div></div></div>"
            ]
          },
          "metadata": {},
          "execution_count": 82
        }
      ]
    },
    {
      "cell_type": "code",
      "source": [
        "best_tree_cl = dec_tree_grid.best_estimator_"
      ],
      "metadata": {
        "id": "qS8qo-bw4RC1"
      },
      "id": "qS8qo-bw4RC1",
      "execution_count": 83,
      "outputs": []
    },
    {
      "cell_type": "code",
      "source": [
        "cross_val_ypred = pd.DataFrame(cross_val_predict(best_tree_cl, X_train_cl, y_train_cl.yes, cv = skf, method = 'predict_proba'))\n",
        "cross_val_ypred = cross_val_ypred.loc[:,1]"
      ],
      "metadata": {
        "id": "-W8LR9V09mYZ"
      },
      "id": "-W8LR9V09mYZ",
      "execution_count": 84,
      "outputs": []
    },
    {
      "cell_type": "code",
      "source": [
        "counter = 0\n",
        "thres_table = pd.DataFrame(columns =['threshold','accuracy','recall'])\n",
        "for thres in np.arange(0,0.2,0.002):\n",
        "  y_fit = (cross_val_ypred > thres).astype('int')\n",
        "  accuracy = accuracy_score(y_train_cl, y_fit)\n",
        "  recall = recall_score(y_train_cl, y_fit)\n",
        "  thres_table.loc[counter, 'threshold'] = thres\n",
        "  thres_table.loc[counter, 'accuracy'] = accuracy\n",
        "  thres_table.loc[counter, 'recall'] = recall\n",
        "  counter = counter +1\n",
        "# now I got a table with all thres and 5-fold accuracy and recall"
      ],
      "metadata": {
        "id": "JZtON9Ao4mOU"
      },
      "id": "JZtON9Ao4mOU",
      "execution_count": 85,
      "outputs": []
    },
    {
      "cell_type": "code",
      "source": [
        "def plot_accuracy_recall_vs_threshold(thres_table):\n",
        "    sns.set_style(\"whitegrid\")\n",
        "    accuracy = thres_table.accuracy\n",
        "    recall = thres_table.recall\n",
        "    threshold = thres_table.threshold\n",
        "    plt.figure(figsize=(8, 8))\n",
        "    plt.title(\"Accuracy and Recall Scores as a function of the decision threshold\")\n",
        "    plt.plot(threshold, accuracy, \"b--\", label=\"accuracy\")\n",
        "    plt.plot(threshold, recall, \"g-\", label=\"recall\")\n",
        "    plt.plot(threshold, accuracy, \"o\", color = 'blue')\n",
        "    plt.plot(threshold, recall, \"o\", color = 'green')\n",
        "    plt.ylabel(\"Score\")\n",
        "    plt.xlabel(\"Decision Threshold\")\n",
        "    plt.legend(loc='best')\n",
        "    plt.xticks(np.arange(0,0.2,0.01))\n",
        "    plt.yticks(np.arange(0,1.01,0.1))\n",
        "    plt.legend()"
      ],
      "metadata": {
        "id": "r5Kw-Gsq9JAx"
      },
      "id": "r5Kw-Gsq9JAx",
      "execution_count": 86,
      "outputs": []
    },
    {
      "cell_type": "code",
      "source": [
        "plot_accuracy_recall_vs_threshold(thres_table)"
      ],
      "metadata": {
        "colab": {
          "base_uri": "https://localhost:8080/",
          "height": 718
        },
        "id": "_OmsyP-j_OY7",
        "outputId": "11662ed7-d123-4149-9e11-1aa0f07f7b35"
      },
      "id": "_OmsyP-j_OY7",
      "execution_count": 87,
      "outputs": [
        {
          "output_type": "display_data",
          "data": {
            "text/plain": [
              "<Figure size 800x800 with 1 Axes>"
            ],
            "image/png": "[encoded data removed]"
          },
          "metadata": {}
        }
      ]
    },
    {
      "cell_type": "markdown",
      "source": [
        "proposed threshold: 0.095."
      ],
      "metadata": {
        "id": "AJ6F6iXxCbHM"
      },
      "id": "AJ6F6iXxCbHM"
    },
    {
      "cell_type": "code",
      "source": [
        "# predict y_train\n",
        "y_train_pred = pd.DataFrame(best_tree_cl.predict_proba(X_train_cl))[1] \n",
        "y_train_pred = (y_train_pred > 0.095).astype('int')\n",
        "print('the accuracy of the training data is', accuracy_score(y_train_cl,y_train_pred))\n",
        "print('the recall of the training data is', recall_score(y_train_cl,y_train_pred))"
      ],
      "metadata": {
        "id": "L4p1-mS0Casv",
        "colab": {
          "base_uri": "https://localhost:8080/"
        },
        "outputId": "477ced46-9190-4613-b330-5744b290512d"
      },
      "id": "L4p1-mS0Casv",
      "execution_count": 88,
      "outputs": [
        {
          "output_type": "stream",
          "name": "stdout",
          "text": [
            "the accuracy of the training data is 0.7046857142857142\n",
            "the recall of the training data is 0.6301169590643275\n"
          ]
        }
      ]
    },
    {
      "cell_type": "code",
      "source": [
        "# predict y_test\n",
        "y_test_pred = pd.DataFrame(best_tree_cl.predict_proba(X_test_cl))[1] \n",
        "y_test_pred = (y_test_pred > 0.095).astype('int')\n",
        "print('the accuracy of the testing data is', accuracy_score(y_test_cl,y_test_pred))\n",
        "print('the recall of the testing data is', recall_score(y_test_cl,y_test_pred))"
      ],
      "metadata": {
        "colab": {
          "base_uri": "https://localhost:8080/"
        },
        "id": "GCMlCDdJpwkE",
        "outputId": "e8959d9c-c58a-4940-b1b2-bb2b8c6b0b50"
      },
      "id": "GCMlCDdJpwkE",
      "execution_count": 89,
      "outputs": [
        {
          "output_type": "stream",
          "name": "stdout",
          "text": [
            "the accuracy of the testing data is 0.7039718254744668\n",
            "the recall of the testing data is 0.642495784148398\n"
          ]
        }
      ]
    },
    {
      "cell_type": "markdown",
      "id": "da2a078d",
      "metadata": {
        "id": "da2a078d"
      },
      "source": [
        "### Random forest\n",
        "Develop and tune a **random forest model** to predict the probability of a client subscribing to a term deposit based on `age`, `education`, `day` and `month`. The model must have: \n",
        "\n",
        "(a)  **Minimum overall classification accuracy of 75%** among the classifcation accuracies on *train.csv*, and *test.csv*. \n",
        "\n",
        "(b) **Minimum recall of 60%** among the recall on *train.csv*, and *test.csv*. \n",
        "\n",
        "Print the accuracy and recall for both the datasets - *train.csv*, and *test.csv*.\n",
        "\n",
        "Note that: \n",
        "\n",
        "i. You cannot use `duration` as a predictor. The predictor is not useful for prediction because its value is determined after the marketing call ends. However, after the call ends, we already know whether the client responded positively or negatively. \n",
        "\n",
        "ii. You are free to choose any value of threshold probability for classifying observations. However, you must use the same threshold on both the datasets.\n",
        "\n",
        "iii. Use cross-validation on train data to optimize the model hyperparameters.\n",
        "\n",
        "iv. Using the optimal model hyperparameters obtained in (iii), develop the decision tree model. Plot the cross-validated accuracy and recall against decision threshold probability. Tune the decision threshold probability based on the plot, or the data underlying the plot to achieve the required trade-off between recall and accuracy.\n",
        "\n",
        "v. Evaluate the accuracy and recall of the developed model with the tuned decision threshold probability on both the datasets. Note that the test dataset must only be used to evaluate performance metrics, and not optimize any hyperparameters or decision threshold probability.\n",
        "\n",
        "*(12 points - 4 points for tuning the hyperparameters, 3 points for making the plot, 3 points for tuning the decision threshold probability based on the plot, and 2 points for printing the accuracy & recall on both the datasets)*\n",
        "\n",
        "**Hint:** Restrict the search for `max_depth` to a maximum of 25, and `max_leaf_nodes` to a maximum of 45. Without this restriction, you may get a better recall for threshold probability = 0.5, but are likely to get a worse trade-off between recall and accuracy.\n",
        "\n",
        "It is up to you to pick the hyperparameters and their values in the grid."
      ]
    },
    {
      "cell_type": "code",
      "source": [
        "from sklearn.ensemble import RandomForestClassifier"
      ],
      "metadata": {
        "id": "hJ-EiJtM0X3N"
      },
      "id": "hJ-EiJtM0X3N",
      "execution_count": null,
      "outputs": []
    },
    {
      "cell_type": "code",
      "source": [
        "rf_cl_params = {'criterion':['gini','entropy','log_loss'],\n",
        "                  'max_depth':[6,7,8,9,10],\n",
        "                  'max_leaf_nodes':[22,23,24,25,26,27,28],\n",
        "                  'max_features':['sqrt', 'log2', 0.5, None],\n",
        "                  #'class_weight':['balanced', None],\n",
        "                  'ccp_alpha':np.arange(0,0.2,0.02),\n",
        "                  #'splitter': ['best', 'random'],\n",
        "                  'min_sample_split':[2,5,10,50,100],\n",
        "                  'min_sample_leaf': [1,5,10,50,100],\n",
        "                  'min_weight_fraction_leaf':[0.0, 0.1, 0.5],\n",
        "                  'min_impurity_decrease': [0.0, 0.05, 0.1],\n",
        "                  'oob_score':[True, False],\n",
        "                  'max_samples': [0.5, 0.7, None]\n",
        "                  }"
      ],
      "metadata": {
        "id": "HEban0-H0lx5"
      },
      "id": "HEban0-H0lx5",
      "execution_count": null,
      "outputs": []
    },
    {
      "cell_type": "markdown",
      "id": "c867ae27",
      "metadata": {
        "id": "c867ae27"
      },
      "source": [
        "## Predictor transformations in trees\n",
        "Can a non-linear monotonic transformation of predictors (such as *log(), sqrt()* etc.) be useful in improving the accuracy of decision tree models?\n",
        "\n",
        "*(3 points for answer)*"
      ]
    }
  ],
  "metadata": {
    "kernelspec": {
      "display_name": "Python 3",
      "language": "python",
      "name": "python3"
    },
    "language_info": {
      "codemirror_mode": {
        "name": "ipython",
        "version": 3
      },
      "file_extension": ".py",
      "mimetype": "text/x-python",
      "name": "python",
      "nbconvert_exporter": "python",
      "pygments_lexer": "ipython3",
      "version": "3.8.8"
    },
    "colab": {
      "provenance": [],
      "machine_shape": "hm",
      "include_colab_link": true
    },
    "accelerator": "GPU",
    "gpuClass": "premium"
  },
  "nbformat": 4,
  "nbformat_minor": 5
}